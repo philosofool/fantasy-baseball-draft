{
 "cells": [
  {
   "cell_type": "markdown",
   "metadata": {},
   "source": [
    "# Calculate SPG from CBS html\n",
    "\n"
   ]
  },
  {
   "cell_type": "code",
   "execution_count": null,
   "metadata": {},
   "outputs": [],
   "source": [
    "import pandas as pd\n",
    "import numpy as np\n",
    "from sklearn.linear_model import LinearRegression\n",
    "\n",
    "import os\n",
    "import sys\n",
    "\n",
    "sys.path.append(r'C:\\Users\\lenha\\Repos\\phi-utils')\n",
    "\n",
    "# N.B. this was has not been merged to main in that repo....\n",
    "from philosofool.data_sources.utils import read_yml\n",
    "#os.path.exists(os.path.norm('C:Users/lenha/Repos/phi-utils'))\n",
    "\n",
    "from fantasy_baseball_draft.spg import (\n",
    "    spgs_from_standings_html as calc_spg, \n",
    "    FantasyValuator\n",
    ")\n",
    "from fantasy_baseball_draft.stats import hitter_fwar, pitcher_fwar\n",
    "from fantasy_baseball_draft.utils import process_players, process_hitters, load_cbs_data, free_agents, StatSynonyms"
   ]
  },
  {
   "cell_type": "code",
   "execution_count": null,
   "metadata": {},
   "outputs": [],
   "source": [
    "data_path = read_yml('local/config.yml')['paths']['local_data']\n",
    "standings_path = os.path.join(data_path, r'standings\\cbs_2021_standings.html')\n",
    "\n",
    "spg = calc_spg(standings_path)"
   ]
  },
  {
   "cell_type": "code",
   "execution_count": null,
   "metadata": {},
   "outputs": [],
   "source": [
    "projections_path = os.path.join(data_path, r'projections')\n",
    "eligibility = load_cbs_data(os.path.join(data_path, 'eligibility/eligibility.csv'))\n",
    "hitters = (\n",
    "    load_cbs_data(os.path.join(projections_path, 'cbs_hitters.csv'))\n",
    "    .pipe(process_hitters, eligibility)\n",
    "    .pipe(process_players)\n",
    "    .drop(columns='player')\n",
    ")\n",
    "pitchers = (\n",
    "    load_cbs_data(os.path.join(projections_path, 'cbs_pitchers.csv'))\n",
    "    .pipe(process_players)\n",
    "    .drop(columns='player')\n",
    ")\n",
    "free_agents(pitchers).sum()\n",
    "pitchers.head()"
   ]
  },
  {
   "cell_type": "code",
   "execution_count": null,
   "metadata": {},
   "outputs": [],
   "source": [
    "from fantasy_baseball_draft.spg import ReplacementValuator\n",
    "valuator = FantasyValuator(spg)\n",
    "valuator.valuate_hitters(hitters, 16*11).hist()\n",
    "valuator.valuate_pitchers(pitchers, 16*11).hist()\n",
    "replacement = ReplacementValuator(spg)\n",
    "#replacement.valuate_hitters(hitters, 160).hist()\n",
    "#replacement.find_position_values(hitters, 160)"
   ]
  },
  {
   "cell_type": "code",
   "execution_count": null,
   "metadata": {},
   "outputs": [],
   "source": [
    "from fantasy_baseball_draft.stats import hitter_fwar, pitcher_fwar\n",
    "hitter_fwar(hitters, spg['spg'], spg['median']).sort_values()[-180:]"
   ]
  },
  {
   "cell_type": "code",
   "execution_count": null,
   "metadata": {},
   "outputs": [],
   "source": []
  }
 ],
 "metadata": {
  "kernelspec": {
   "display_name": "Python 3",
   "language": "python",
   "name": "python3"
  },
  "language_info": {
   "codemirror_mode": {
    "name": "ipython",
    "version": 3
   },
   "file_extension": ".py",
   "mimetype": "text/x-python",
   "name": "python",
   "nbconvert_exporter": "python",
   "pygments_lexer": "ipython3",
   "version": "3.11.2"
  },
  "orig_nbformat": 4,
  "vscode": {
   "interpreter": {
    "hash": "e86ca9685950375c06c24bbd1cc22cd4b7d8e13de045a2c6ac1c57b235deeffb"
   }
  }
 },
 "nbformat": 4,
 "nbformat_minor": 2
}
