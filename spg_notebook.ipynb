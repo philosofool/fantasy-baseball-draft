{
 "cells": [
  {
   "cell_type": "markdown",
   "metadata": {},
   "source": [
    "# Calculate SPG from CBS html\n",
    "\n"
   ]
  },
  {
   "cell_type": "code",
   "execution_count": 32,
   "metadata": {},
   "outputs": [
    {
     "data": {
      "text/plain": [
       "{'ba': 0.01151037472441089,\n",
       " 'hr': 0.09595837983264877,\n",
       " 'r': 0.0494239463865728,\n",
       " 'rbi': 0.05261095031355526,\n",
       " 'sb': 0.1478987411520366,\n",
       " 'era': -0.0011116090409131923,\n",
       " 'k': 0.033590558175417236,\n",
       " 's': 0.1334702776908557,\n",
       " 'w': 0.42727358758398803,\n",
       " 'whip': -0.006384330680245498}"
      ]
     },
     "execution_count": 32,
     "metadata": {},
     "output_type": "execute_result"
    }
   ],
   "source": [
    "import pandas as pd\n",
    "import numpy as np\n",
    "from sklearn.linear_model import LinearRegression\n",
    "\n",
    "import os\n",
    "import sys\n",
    "\n",
    "sys.path.append(r'C:\\Users\\lenha\\Repos\\phi-utils')\n",
    "\n",
    "# N.B. this was has not been merged to main in that repo....\n",
    "from philosofool.data_sources.utils import read_yml\n",
    "#os.path.exists(os.path.norm('C:Users/lenha/Repos/phi-utils'))\n",
    "standings_path = os.path.join(read_yml('local/config.yml')['paths']['local_data'], r'data\\cbs_2021_standings.html')\n",
    "from fantasy_baseball_draft.spg import spgs_from_standings_html as calc_spg\n",
    "\n",
    "calc_spg(standings_path)"
   ]
  },
  {
   "cell_type": "code",
   "execution_count": null,
   "metadata": {},
   "outputs": [],
   "source": []
  }
 ],
 "metadata": {
  "kernelspec": {
   "display_name": "Python 3.8.5 ('base')",
   "language": "python",
   "name": "python3"
  },
  "language_info": {
   "codemirror_mode": {
    "name": "ipython",
    "version": 3
   },
   "file_extension": ".py",
   "mimetype": "text/x-python",
   "name": "python",
   "nbconvert_exporter": "python",
   "pygments_lexer": "ipython3",
   "version": "3.8.5"
  },
  "orig_nbformat": 4,
  "vscode": {
   "interpreter": {
    "hash": "78b2f55b78cdb9644b4c5c1f7a2f2a3af464d774d12ff32f7e68b3d50a20cfdb"
   }
  }
 },
 "nbformat": 4,
 "nbformat_minor": 2
}
