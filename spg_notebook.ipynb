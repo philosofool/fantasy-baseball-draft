{
 "cells": [
  {
   "cell_type": "markdown",
   "metadata": {},
   "source": [
    "# Calculate SPG from CBS html\n",
    "\n"
   ]
  },
  {
   "cell_type": "code",
   "execution_count": 1,
   "metadata": {},
   "outputs": [],
   "source": [
    "import pandas as pd\n",
    "import numpy as np\n",
    "from sklearn.linear_model import LinearRegression\n"
   ]
  },
  {
   "cell_type": "code",
   "execution_count": 2,
   "metadata": {},
   "outputs": [],
   "source": [
    "def _drop_unneeded(df) -> pd.DataFrame:\n",
    "    \"\"\"Clean an html table to the essentials for spg estimation.\"\"\"\n",
    "    drops = [0, 1] if df.loc[1, 1] in ['BA', 'ERA'] else [0]\n",
    "    out = (\n",
    "        df\n",
    "        .drop(drops, axis=0)\n",
    "        .drop([0, 3], axis=1)\n",
    "        .astype(float)\n",
    "        .rename({1: 'stat', 2: 'points'}, axis=1)\n",
    "    )\n",
    "    return out\n",
    "\n",
    "def _get_key(df) -> str:\n",
    "    \"\"\"Get the stat category used as a key in spg dict\"\"\"\n",
    "    key = df.loc[1, 1] if df.loc[1, 1] in ['BA', 'ERA'] else df.loc[0, 1]\n",
    "    return key.lower()\n",
    "\n",
    "def slope_func(stat: pd.Series, points: pd.Series) -> float:\n",
    "    \"\"\"Find linear relationship between stat and points.\"\"\"\n",
    "    def slope_func(x, y): LinearRegression().fit(x, y).coef_[0, 0]\n",
    "    def reshape(series): series.to_numpy().reshape(-1, 1)\n",
    "    return slope_func(reshape(stat), reshape(points))\n",
    "\n",
    "def get_spg(df) -> dict:\n",
    "    key = _get_key(df)\n",
    "    out = drop_unneeded(df)\n",
    "    slope = slope_func(out.stat, out.points)\n",
    "    return {key.lower(): slope}\n"
   ]
  },
  {
   "cell_type": "code",
   "execution_count": 3,
   "metadata": {},
   "outputs": [],
   "source": [
    "def get_xspg(df) -> dict:\n",
    "    \"\"\"Get xstat from rate stat.\"\"\"\n",
    "    key = _get_key(df)\n",
    "    df = drop_unneeded(df)\n",
    "    mean = df.stat.median()\n",
    "    if key == 'ba':   \n",
    "        xh = 5600 * (df.stat - mean)\n",
    "        slope = slope_func(xh, df.points)\n",
    "    if key == 'whip':\n",
    "        xwhip = 1200 * (df.stat - mean)\n",
    "        slope = slope_func(xwhip, df.points)\n",
    "    if key == 'era':\n",
    "        xer = 1200 * (df.stat - mean)\n",
    "        slope = slope_func(xer, df.points)\n",
    "    return {key: slope/9}\n"
   ]
  },
  {
   "cell_type": "code",
   "execution_count": 4,
   "metadata": {},
   "outputs": [],
   "source": [
    "def get_spgs(dfs: list) -> dict:\n",
    "    \"\"\"Programmatically determine spgs.\"\"\"\n",
    "    spgs = {}\n",
    "    for df in dfs:\n",
    "        head = df.loc[1, 1] if df.loc[1, 1] in ['BA', 'ERA'] else df.loc[0, 1]\n",
    "        if head.lower() not in ['ba', 'whip', 'era']:\n",
    "            spg = get_spg(df)\n",
    "        else:\n",
    "            spg = get_xspg(df)\n",
    "        spgs.update(spg)\n",
    "    return spgs"
   ]
  },
  {
   "cell_type": "code",
   "execution_count": 40,
   "metadata": {},
   "outputs": [
    {
     "data": {
      "text/plain": [
       "{'ba': 0.011510374724410886,\n",
       " 'hr': 0.09595837983264877,\n",
       " 'r': 0.0494239463865728,\n",
       " 'rbi': 0.052610950313555255,\n",
       " 'sb': 0.1478987411520366,\n",
       " 'era': -0.0011116090409131923,\n",
       " 'k': 0.033590558175417236,\n",
       " 's': 0.13347027769085573,\n",
       " 'w': 0.4272735875839879,\n",
       " 'whip': -0.006384330680245498}"
      ]
     },
     "execution_count": 40,
     "metadata": {},
     "output_type": "execute_result"
    }
   ],
   "source": [
    "def spgs_from_standings_html(path='data\\cbs_2021_standings.html') -> dict:\n",
    "    \"\"\"Read an html of league standings and find spgs for categories.\n",
    "    \n",
    "    Notes:\n",
    "        Rates stats are converted to expected counts based on an assumed 5600\n",
    "        at bats or 1200 innings pitched. ERA is still on a 9 inning basis, so \n",
    "        reflects value per nine earned runs. This is for convenience:\n",
    "            spg[era_9_run_basis] * IP * (ERA - lgERA) = fantansy_points\n",
    "        \n",
    "        Rate stats are calculated using the median value, not the mean, since \n",
    "        there are often extremes (saves punters, etc.) to skew the mean.\n",
    "    \"\"\"\n",
    "    with open(path, 'r') as f:\n",
    "        html = f.read()\n",
    "    dfs = pd.read_html(html)\n",
    "    return get_spgs(dfs[1:])\n",
    "\n",
    "spgs_from_standings_html()\n",
    "    "
   ]
  },
  {
   "cell_type": "code",
   "execution_count": null,
   "metadata": {},
   "outputs": [],
   "source": []
  }
 ],
 "metadata": {
  "kernelspec": {
   "display_name": "Python 3.8.5 ('base')",
   "language": "python",
   "name": "python3"
  },
  "language_info": {
   "codemirror_mode": {
    "name": "ipython",
    "version": 3
   },
   "file_extension": ".py",
   "mimetype": "text/x-python",
   "name": "python",
   "nbconvert_exporter": "python",
   "pygments_lexer": "ipython3",
   "version": "3.8.5"
  },
  "orig_nbformat": 4,
  "vscode": {
   "interpreter": {
    "hash": "78b2f55b78cdb9644b4c5c1f7a2f2a3af464d774d12ff32f7e68b3d50a20cfdb"
   }
  }
 },
 "nbformat": 4,
 "nbformat_minor": 2
}
