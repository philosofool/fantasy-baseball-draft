{
 "cells": [
  {
   "cell_type": "markdown",
   "metadata": {},
   "source": [
    "# Calculate SPG from CBS html\n",
    "\n"
   ]
  },
  {
   "cell_type": "code",
   "execution_count": null,
   "metadata": {},
   "outputs": [],
   "source": [
    "import pandas as pd\n",
    "import numpy as np\n",
    "from sklearn.linear_model import LinearRegression\n",
    "\n",
    "import os\n",
    "import sys\n",
    "\n",
    "sys.path.append(os.path.normpath(r'..\\phi-utils'))\n",
    "print(sys.path)\n",
    "# N.B. this was has not been merged to main in that repo....\n",
    "from philosofool.data_sources.utils import read_yml\n",
    "#os.path.exists(os.path.norm('C:Users/lenha/Repos/phi-utils'))\n",
    "\n",
    "from fantasy_baseball_draft.spg import spgs_from_standings_html as calc_spg\n",
    "from fantasy_baseball_draft.stats import hitter_fwar, pitcher_fwar\n",
    "from fantasy_baseball_draft.utils import process_players, process_hitters, load_cbs_data, free_agents"
   ]
  },
  {
   "cell_type": "code",
   "execution_count": null,
   "metadata": {},
   "outputs": [],
   "source": [
    "os."
   ]
  },
  {
   "cell_type": "code",
   "execution_count": null,
   "metadata": {},
   "outputs": [],
   "source": [
    "data_path = read_yml('local/config.yml')['paths']['local_data']\n",
    "standings_path = os.path.join(data_path, r'standings\\cbs_2021_standings.html')\n",
    "\n",
    "spg = calc_spg(standings_path)\n",
    "spg"
   ]
  },
  {
   "cell_type": "code",
   "execution_count": null,
   "metadata": {},
   "outputs": [],
   "source": [
    "projections_path = os.path.join(data_path, r'projections')\n",
    "eligibility = load_cbs_data(os.path.join(data_path, 'eligibility/eligibility.csv'))\n",
    "hitters = (\n",
    "    load_cbs_data(os.path.join(projections_path, 'cbs_hitters.csv'))\n",
    "    .pipe(process_hitters, eligibility)\n",
    "    .pipe(process_players)\n",
    "    .drop(columns='player')\n",
    ")\n",
    "pitchers = (\n",
    "    load_cbs_data(os.path.join(projections_path, 'cbs_pitchers.csv'))\n",
    "    .pipe(process_players)\n",
    "    .drop(columns='player')\n",
    ")\n",
    "free_agents(pitchers).sum()\n",
    "pitchers.head()\n",
    "hitters"
   ]
  },
  {
   "cell_type": "code",
   "execution_count": null,
   "metadata": {},
   "outputs": [],
   "source": [
    "\n",
    "class ReplacementValuator:\n",
    "    positions = ['C', '1B', '2B', '3B', 'SS', 'LF', 'CF', 'RF']\n",
    "    \n",
    "    def __init__(self, spg: pd.DataFrame):\n",
    "        self.spg = spg\n",
    "\n",
    "\n",
    "    def find_replace_values(df, depth):\n",
    "        positions = ['C', '1B', '2B', '3B', 'SS', 'LF', 'CF', 'RF']\n",
    "        df = df.copy().rename(columns={k: k.lower() for k in df.columns})\n",
    "        df['fwar'] = hitter_fwar(df, self.spg)\n",
    "        df = df.sort_values('fwar', ascending=False)\n",
    "        #print(df.head())\n",
    "        raw_replace = df.fwar[:depth].min()\n",
    "        replace_values = {}\n",
    "        for pos in self.positions:\n",
    "            exp = f'{pos},|{pos}$'\n",
    "            _df = df[df.eligible.str.contains(exp)]\n",
    "            replace_values[pos] = max(raw_replace - _df[:depth].fwar.min(), 0)\n",
    "        return replace_values\n",
    "\n",
    "find_replace_values(hitters, 16, spg.spg, spg['median'])"
   ]
  },
  {
   "cell_type": "code",
   "execution_count": null,
   "metadata": {},
   "outputs": [],
   "source": [
    "class FantasyValuator:\n",
    "    def __init__(self, spg: pd.DataFrame):\n",
    "        self.spg = spg\n",
    "\n",
    "    def valuate_hitters(self, df, num_owned, copy=False):\n",
    "        if copy:\n",
    "            df = df.copy()\n",
    "            self.valuate_hitters(df)\n",
    "            return df\n",
    "        fwar = self.hitter_fwar(df)\n",
    "        replacement_level = self.replacement_level(fwar, num_owned)\n",
    "        df['fwar'] = fwar - replacement_level\n",
    "\n",
    "    def hitter_fwar(self, df) -> pd.Series:\n",
    "        df = self.clean_df(df)\n",
    "        return hitter_fwar(df, self.spg)\n",
    "\n",
    "    def pitcher_fwar(self, df) -> pd.Series:\n",
    "        df = df.clean_df(df)\n",
    "        return pitcher_fwar(df, self.spg)\n",
    "\n",
    "    def replacement_level(self, fwar: pd.Series, num_owned: int):\n",
    "        return fwar.sort_values(ascending=False)[:num_owned].min()\n",
    "\n",
    "    def clean_df(self, df, inplace=False) -> pd.DataFrame:\n",
    "        \"\"\"Clean df for processing.\"\"\"\n",
    "        if not inplace:\n",
    "            df = df.copy()\n",
    "            self.clean_df(df, inplace=True)\n",
    "            return df\n",
    "        df.rename({k: self.stat_concordance.normalize(k) for k in df.columns}, inplace=True)"
   ]
  },
  {
   "cell_type": "code",
   "execution_count": null,
   "metadata": {},
   "outputs": [],
   "source": [
    "from fantasy_baseball_draft.stats import hitter_fwar, pitcher_fwar\n",
    "hitter_fwar(hitters, spg['spg'], spg['median']).sort_values()[-180:]"
   ]
  },
  {
   "cell_type": "code",
   "execution_count": null,
   "metadata": {},
   "outputs": [],
   "source": []
  }
 ],
 "metadata": {
  "kernelspec": {
   "display_name": "Python 3",
   "language": "python",
   "name": "python3"
  },
  "language_info": {
   "codemirror_mode": {
    "name": "ipython",
    "version": 3
   },
   "file_extension": ".py",
   "mimetype": "text/x-python",
   "name": "python",
   "nbconvert_exporter": "python",
   "pygments_lexer": "ipython3",
   "version": "3.8.5"
  },
  "orig_nbformat": 4,
  "vscode": {
   "interpreter": {
    "hash": "31f2aee4e71d21fbe5cf8b01ff0e069b9275f58929596ceb00d14d90e3e16cd6"
   }
  }
 },
 "nbformat": 4,
 "nbformat_minor": 2
}
