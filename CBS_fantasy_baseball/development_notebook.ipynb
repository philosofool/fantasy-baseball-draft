{
 "metadata": {
  "language_info": {
   "codemirror_mode": {
    "name": "ipython",
    "version": 3
   },
   "file_extension": ".py",
   "mimetype": "text/x-python",
   "name": "python",
   "nbconvert_exporter": "python",
   "pygments_lexer": "ipython3",
   "version": "3.8.5-final"
  },
  "orig_nbformat": 2,
  "kernelspec": {
   "name": "python3",
   "display_name": "Python 3",
   "language": "python"
  }
 },
 "nbformat": 4,
 "nbformat_minor": 2,
 "cells": [
  {
   "cell_type": "code",
   "execution_count": 1,
   "metadata": {},
   "outputs": [],
   "source": [
    "import pandas as pd\n",
    "import numpy as np"
   ]
  },
  {
   "cell_type": "code",
   "execution_count": 2,
   "metadata": {},
   "outputs": [
    {
     "output_type": "stream",
     "name": "stdout",
     "text": [
      " Volume in drive C is Windows-SSD\n Volume Serial Number is 220E-4420\n\n Directory of c:\\Users\\lenha\\Repos\\fantasy-baseball-draft\\CBS_fantasy_baseball\n\n03/27/2021  03:09 PM    <DIR>          .\n03/27/2021  03:09 PM    <DIR>          ..\n03/05/2021  07:30 AM                 0 __init__.py\n03/05/2021  07:30 AM               290 assistant.py\n03/05/2021  07:30 AM            21,785 BaseFantasyClasses.py\n03/27/2021  03:09 PM            33,141 development_notebook.ipynb\n03/05/2021  07:30 AM    <DIR>          file_handlers\n03/05/2021  07:30 AM             1,011 pitchers.py\n03/05/2021  07:30 AM    <DIR>          player\n03/05/2021  07:30 AM            13,513 stats.py\n03/05/2021  07:30 AM    <DIR>          team\n               6 File(s)         69,740 bytes\n               5 Dir(s)  77,602,246,656 bytes free\n"
     ]
    }
   ],
   "source": [
    "%ls"
   ]
  },
  {
   "cell_type": "code",
   "execution_count": 3,
   "metadata": {},
   "outputs": [],
   "source": [
    "df1 = pd.read_csv('../data/projections/2021/bat hitters.csv')\n",
    "df2 = pd.read_csv('../data/projections/2021/bat x hitters.csv')\n",
    "df3 = pd.read_csv('../data/projections/2021/steamer batters.csv')\n",
    "df4 = pd.read_csv('../data/projections/2021/zips hitters.csv')"
   ]
  },
  {
   "cell_type": "code",
   "execution_count": 4,
   "metadata": {},
   "outputs": [],
   "source": [
    "dfs = [df1, df2, df3, df4]\n",
    "score_cats = ['R','HR', 'RBI', 'H', 'AB', 'SB']\n",
    "bio_cats = ['Name', 'playerid','Team','PA']\n",
    "for df in dfs:\n",
    "    for c in score_cats:\n",
    "        if c not in df.columns:\n",
    "            print('Ahk!')\n",
    "    for c in bio_cats:\n",
    "        if c not in df.columns:\n",
    "            print(\"Yeesh!\")"
   ]
  },
  {
   "cell_type": "code",
   "execution_count": 5,
   "metadata": {},
   "outputs": [],
   "source": [
    "def df_to_fb_stats(df):\n",
    "    if df['HR'].dtype:\n",
    "        pass\n",
    "    df = df[bio_cats + score_cats].copy()\n",
    "    for col in score_cats:\n",
    "        df[col] = df[col]/df['PA']\n",
    "    return df\n",
    "dfs2 = []\n",
    "for df in dfs:\n",
    "    df = df_to_fb_stats(df)\n",
    "    dfs2.append(df)\n",
    "dfs2[0].head()\n",
    "dfs = dfs2"
   ]
  },
  {
   "cell_type": "code",
   "execution_count": 6,
   "metadata": {},
   "outputs": [],
   "source": [
    "merged = None\n",
    "merged = pd.merge(dfs[0], dfs[1], 'outer', left_on='playerid', right_on='playerid', suffixes=('_bat', '_xbat'))\n",
    "merged = pd.merge(merged, dfs[2], 'outer', left_on='playerid', right_on='playerid')\n",
    "merged = pd.merge(merged, dfs[3], 'outer', left_on='playerid', right_on='playerid', suffixes=('_stmr', '_zips'))"
   ]
  },
  {
   "cell_type": "code",
   "execution_count": 7,
   "metadata": {},
   "outputs": [],
   "source": [
    "merged.isna()\n",
    "#def agg_score_cols(df):\n",
    "cols = merged.columns.str.startswith('Team')\n",
    "cols = merged.columns[cols]\n",
    "def set_team(series):\n",
    "    if series.isna().all():\n",
    "        return np.nan\n",
    "    else:\n",
    "        return series.dropna().iloc[0]\n",
    "merged['Team'] = merged[cols].apply(set_team, axis = 1)\n",
    "cols = merged.columns.str.startswith('Name')\n",
    "cols = merged.columns[cols]\n",
    "merged['Name'] = merged[cols].apply(lambda x: x.dropna().iloc[0], axis=1)\n",
    "merged.iloc[0].dropna()\n",
    "for stat in score_cats:\n",
    "    cols = merged.columns.str.startswith(stat)\n",
    "    merged[stat] = merged[merged.columns[cols]].apply(np.mean, axis = 1)\n"
   ]
  },
  {
   "cell_type": "code",
   "execution_count": 8,
   "metadata": {},
   "outputs": [],
   "source": [
    "merged = merged[bio_cats[:-1] + score_cats]"
   ]
  },
  {
   "cell_type": "code",
   "execution_count": 125,
   "metadata": {},
   "outputs": [],
   "source": [
    "merged.head()\n",
    "merged.to_csv('../data/projections/2021/merged_hitter_scoring.csv')"
   ]
  },
  {
   "cell_type": "code",
   "execution_count": 10,
   "metadata": {},
   "outputs": [
    {
     "output_type": "execute_result",
     "data": {
      "text/plain": [
       "               Name playerid Team         R        HR       RBI         H  \\\n",
       "0        Mike Trout    10155  LAA  0.168681  0.063104  0.167421  0.135713   \n",
       "1         Juan Soto    20123  WSN  0.172518  0.055979  0.177381  0.140262   \n",
       "2   Freddie Freeman     5361  ATL  0.155080  0.045781  0.156940  0.137330   \n",
       "3  Christian Yelich    11477  MIL  0.149860  0.051534  0.144707  0.133858   \n",
       "4      Bryce Harper    11579  PHI  0.157180  0.054264  0.159416  0.125204   \n",
       "\n",
       "         AB        SB     PA  \n",
       "0  0.795689  0.016909  679.0  \n",
       "1  0.819014  0.018970  665.0  \n",
       "2  0.849179  0.009746  679.0  \n",
       "3  0.846531  0.027127  672.0  \n",
       "4  0.814496  0.020378  665.0  "
      ],
      "text/html": "<div>\n<style scoped>\n    .dataframe tbody tr th:only-of-type {\n        vertical-align: middle;\n    }\n\n    .dataframe tbody tr th {\n        vertical-align: top;\n    }\n\n    .dataframe thead th {\n        text-align: right;\n    }\n</style>\n<table border=\"1\" class=\"dataframe\">\n  <thead>\n    <tr style=\"text-align: right;\">\n      <th></th>\n      <th>Name</th>\n      <th>playerid</th>\n      <th>Team</th>\n      <th>R</th>\n      <th>HR</th>\n      <th>RBI</th>\n      <th>H</th>\n      <th>AB</th>\n      <th>SB</th>\n      <th>PA</th>\n    </tr>\n  </thead>\n  <tbody>\n    <tr>\n      <th>0</th>\n      <td>Mike Trout</td>\n      <td>10155</td>\n      <td>LAA</td>\n      <td>0.168681</td>\n      <td>0.063104</td>\n      <td>0.167421</td>\n      <td>0.135713</td>\n      <td>0.795689</td>\n      <td>0.016909</td>\n      <td>679.0</td>\n    </tr>\n    <tr>\n      <th>1</th>\n      <td>Juan Soto</td>\n      <td>20123</td>\n      <td>WSN</td>\n      <td>0.172518</td>\n      <td>0.055979</td>\n      <td>0.177381</td>\n      <td>0.140262</td>\n      <td>0.819014</td>\n      <td>0.018970</td>\n      <td>665.0</td>\n    </tr>\n    <tr>\n      <th>2</th>\n      <td>Freddie Freeman</td>\n      <td>5361</td>\n      <td>ATL</td>\n      <td>0.155080</td>\n      <td>0.045781</td>\n      <td>0.156940</td>\n      <td>0.137330</td>\n      <td>0.849179</td>\n      <td>0.009746</td>\n      <td>679.0</td>\n    </tr>\n    <tr>\n      <th>3</th>\n      <td>Christian Yelich</td>\n      <td>11477</td>\n      <td>MIL</td>\n      <td>0.149860</td>\n      <td>0.051534</td>\n      <td>0.144707</td>\n      <td>0.133858</td>\n      <td>0.846531</td>\n      <td>0.027127</td>\n      <td>672.0</td>\n    </tr>\n    <tr>\n      <th>4</th>\n      <td>Bryce Harper</td>\n      <td>11579</td>\n      <td>PHI</td>\n      <td>0.157180</td>\n      <td>0.054264</td>\n      <td>0.159416</td>\n      <td>0.125204</td>\n      <td>0.814496</td>\n      <td>0.020378</td>\n      <td>665.0</td>\n    </tr>\n  </tbody>\n</table>\n</div>"
     },
     "metadata": {},
     "execution_count": 10
    }
   ],
   "source": [
    "pt = pd.read_csv('../data/projections/2021/fg_depth hitters.csv')\n",
    "merged = pd.merge(merged, pt[['PA','playerid']], how='outer', left_on='playerid', right_on='playerid')\n",
    "merged.head()"
   ]
  },
  {
   "cell_type": "code",
   "execution_count": 16,
   "metadata": {},
   "outputs": [
    {
     "output_type": "execute_result",
     "data": {
      "text/plain": [
       "705"
      ]
     },
     "metadata": {},
     "execution_count": 16
    }
   ],
   "source": [
    "#pd.read_csv('../data/projections/2021/cbs hitters.csv', skiprows=1, skipfooter=1)\n",
    "id_map = pd.read_csv('../data/projections/2021/id_map.txt', engine='python', sep='\\t')\n",
    "#pd.read_csv?\n",
    "#drop = id_map.columns.where(id_map.columns.str.startswith('Unnamed')).dropna()\n",
    "#id_map.drop(drop, inplace=True, axis=1)\n",
    "(id_map['mlb_name'] != id_map['fg_name']).sum()"
   ]
  },
  {
   "cell_type": "code",
   "execution_count": 60,
   "metadata": {},
   "outputs": [],
   "source": [
    "id_map[['cbs_id', 'cbs_name', 'cbs_pos', 'espn_id', 'espn_name', 'espn_pos', 'fg_id', 'fg_name', 'fg_pos']]\n",
    "id_map['cbs_id'] = id_map['cbs_id'].dropna().astype(int)"
   ]
  },
  {
   "cell_type": "code",
   "execution_count": 61,
   "metadata": {},
   "outputs": [
    {
     "output_type": "execute_result",
     "data": {
      "text/plain": [
       "   mlb_id      mlb_name mlb_pos mlb_team       mlb_team_long bats throws  \\\n",
       "0  592091   A.J. Achter       P      LAA  Los Angeles Angels    R      R   \n",
       "1  595918     A.J. Cole       P      TOR   Toronto Blue Jays    R      R   \n",
       "2  454560    A.J. Ellis       C       SD    San Diego Padres    R      R   \n",
       "3  456167  A.J. Griffin       P      TEX       Texas Rangers    R      R   \n",
       "4  543362  A.J. Jimenez       C      TEX       Texas Rangers    R      R   \n",
       "\n",
       "  birth_date    bp_id    bref_id  ...    retro_name      debut yahoo_id  \\\n",
       "0  8/27/1988  66919.0  achteaj01  ...   A.J. Achter   9/3/2014   9824.0   \n",
       "1   1/5/1992  68086.0   coleaj01  ...     A.J. Cole  4/28/2015   9638.0   \n",
       "2   4/9/1981  47564.0  ellisaj01  ...    A.J. Ellis  9/15/2008   8373.0   \n",
       "3  1/28/1988  65757.0  griffaj01  ...  A.J. Griffin  6/24/2012   9220.0   \n",
       "4   5/1/1990  58320.0  jimenaj01  ...  A.J. Jimenez   9/6/2017      NaN   \n",
       "\n",
       "     yahoo_name ottoneu_id  ottoneu_name ottoneu_pos rotowire_id  \\\n",
       "0   A.J. Achter    18093.0   A.J. Achter          RP         NaN   \n",
       "1     A.J. Cole    14940.0     A.J. Cole          RP     11446.0   \n",
       "2    A.J. Ellis     1543.0    A.J. Ellis        Util      9242.0   \n",
       "3  A.J. Griffin    13764.0  A.J. Griffin          RP     12410.0   \n",
       "4           NaN    17777.0  A.J. Jimenez        Util     12071.0   \n",
       "\n",
       "  rotowire_name rotowire_pos  \n",
       "0           NaN          NaN  \n",
       "1     A.J. Cole            P  \n",
       "2    A.J. Ellis            C  \n",
       "3  A.J. Griffin            P  \n",
       "4  A.J. Jimenez            C  \n",
       "\n",
       "[5 rows x 35 columns]"
      ],
      "text/html": "<div>\n<style scoped>\n    .dataframe tbody tr th:only-of-type {\n        vertical-align: middle;\n    }\n\n    .dataframe tbody tr th {\n        vertical-align: top;\n    }\n\n    .dataframe thead th {\n        text-align: right;\n    }\n</style>\n<table border=\"1\" class=\"dataframe\">\n  <thead>\n    <tr style=\"text-align: right;\">\n      <th></th>\n      <th>mlb_id</th>\n      <th>mlb_name</th>\n      <th>mlb_pos</th>\n      <th>mlb_team</th>\n      <th>mlb_team_long</th>\n      <th>bats</th>\n      <th>throws</th>\n      <th>birth_date</th>\n      <th>bp_id</th>\n      <th>bref_id</th>\n      <th>...</th>\n      <th>retro_name</th>\n      <th>debut</th>\n      <th>yahoo_id</th>\n      <th>yahoo_name</th>\n      <th>ottoneu_id</th>\n      <th>ottoneu_name</th>\n      <th>ottoneu_pos</th>\n      <th>rotowire_id</th>\n      <th>rotowire_name</th>\n      <th>rotowire_pos</th>\n    </tr>\n  </thead>\n  <tbody>\n    <tr>\n      <th>0</th>\n      <td>592091</td>\n      <td>A.J. Achter</td>\n      <td>P</td>\n      <td>LAA</td>\n      <td>Los Angeles Angels</td>\n      <td>R</td>\n      <td>R</td>\n      <td>8/27/1988</td>\n      <td>66919.0</td>\n      <td>achteaj01</td>\n      <td>...</td>\n      <td>A.J. Achter</td>\n      <td>9/3/2014</td>\n      <td>9824.0</td>\n      <td>A.J. Achter</td>\n      <td>18093.0</td>\n      <td>A.J. Achter</td>\n      <td>RP</td>\n      <td>NaN</td>\n      <td>NaN</td>\n      <td>NaN</td>\n    </tr>\n    <tr>\n      <th>1</th>\n      <td>595918</td>\n      <td>A.J. Cole</td>\n      <td>P</td>\n      <td>TOR</td>\n      <td>Toronto Blue Jays</td>\n      <td>R</td>\n      <td>R</td>\n      <td>1/5/1992</td>\n      <td>68086.0</td>\n      <td>coleaj01</td>\n      <td>...</td>\n      <td>A.J. Cole</td>\n      <td>4/28/2015</td>\n      <td>9638.0</td>\n      <td>A.J. Cole</td>\n      <td>14940.0</td>\n      <td>A.J. Cole</td>\n      <td>RP</td>\n      <td>11446.0</td>\n      <td>A.J. Cole</td>\n      <td>P</td>\n    </tr>\n    <tr>\n      <th>2</th>\n      <td>454560</td>\n      <td>A.J. Ellis</td>\n      <td>C</td>\n      <td>SD</td>\n      <td>San Diego Padres</td>\n      <td>R</td>\n      <td>R</td>\n      <td>4/9/1981</td>\n      <td>47564.0</td>\n      <td>ellisaj01</td>\n      <td>...</td>\n      <td>A.J. Ellis</td>\n      <td>9/15/2008</td>\n      <td>8373.0</td>\n      <td>A.J. Ellis</td>\n      <td>1543.0</td>\n      <td>A.J. Ellis</td>\n      <td>Util</td>\n      <td>9242.0</td>\n      <td>A.J. Ellis</td>\n      <td>C</td>\n    </tr>\n    <tr>\n      <th>3</th>\n      <td>456167</td>\n      <td>A.J. Griffin</td>\n      <td>P</td>\n      <td>TEX</td>\n      <td>Texas Rangers</td>\n      <td>R</td>\n      <td>R</td>\n      <td>1/28/1988</td>\n      <td>65757.0</td>\n      <td>griffaj01</td>\n      <td>...</td>\n      <td>A.J. Griffin</td>\n      <td>6/24/2012</td>\n      <td>9220.0</td>\n      <td>A.J. Griffin</td>\n      <td>13764.0</td>\n      <td>A.J. Griffin</td>\n      <td>RP</td>\n      <td>12410.0</td>\n      <td>A.J. Griffin</td>\n      <td>P</td>\n    </tr>\n    <tr>\n      <th>4</th>\n      <td>543362</td>\n      <td>A.J. Jimenez</td>\n      <td>C</td>\n      <td>TEX</td>\n      <td>Texas Rangers</td>\n      <td>R</td>\n      <td>R</td>\n      <td>5/1/1990</td>\n      <td>58320.0</td>\n      <td>jimenaj01</td>\n      <td>...</td>\n      <td>A.J. Jimenez</td>\n      <td>9/6/2017</td>\n      <td>NaN</td>\n      <td>NaN</td>\n      <td>17777.0</td>\n      <td>A.J. Jimenez</td>\n      <td>Util</td>\n      <td>12071.0</td>\n      <td>A.J. Jimenez</td>\n      <td>C</td>\n    </tr>\n  </tbody>\n</table>\n<p>5 rows × 35 columns</p>\n</div>"
     },
     "metadata": {},
     "execution_count": 61
    }
   ],
   "source": [
    "id_map.head()"
   ]
  },
  {
   "cell_type": "code",
   "execution_count": 31,
   "metadata": {},
   "outputs": [
    {
     "output_type": "execute_result",
     "data": {
      "text/plain": [
       "['Jack', 'Cust']"
      ]
     },
     "metadata": {},
     "execution_count": 31
    }
   ],
   "source": [
    "'Jack Cust'.split(' ')"
   ]
  },
  {
   "cell_type": "code",
   "execution_count": 46,
   "metadata": {},
   "outputs": [],
   "source": [
    "cbs = pd.read_csv('../data/projections/2021/cbs hitters.csv', engine='python', skiprows=1, skipfooter=1)\n",
    "cbs.drop('Unnamed: 18', inplace=True, axis = 1)\n",
    "\n",
    "def cbs_player_to_name(player):\n",
    "    '''convets cbs's dumb player format to a name.\n",
    "\n",
    "    Format of player is like \n",
    "        First [Middle] Last [Suffix] Pos | Team_short\n",
    "    Nice clean data, fellas.\n",
    "    '''\n",
    "    player = player.split('|')[0].strip()\n",
    "    player = \" \".join(player.split(' ')[:-1])\n",
    "\n",
    "    return player\n",
    "cbs['Name'] = cbs['Player'].apply(cbs_player_to_name)\n",
    "cbs['Team'] = cbs['Player'].apply(lambda x: x.split('|')[1].strip())\n",
    "\n",
    "cbs[cbs['Avail'] != 'W '].head()\n",
    "#cbs.iloc[0]['Avail']\n",
    "elig = cbs[['Avail', 'Name', 'Team', 'Eligible', 'Player']]"
   ]
  },
  {
   "cell_type": "code",
   "execution_count": 59,
   "metadata": {},
   "outputs": [
    {
     "output_type": "stream",
     "name": "stdout",
     "text": [
      "WSH\nCWS\n"
     ]
    }
   ],
   "source": [
    "for team in id_map['mlb_team'].unique():\n",
    "    if team not in elig['Team'].unique():\n",
    "        print(team)\n",
    "team_dict = {'CWS':'CHW', 'WSH':'WAS'}\n",
    "cbs['Team'] = cbs['Team'].apply(lambda x: team_dict[x] if x in ['CWS', 'WSH'] else x)\n",
    "id_map['mlb_team'] = id_map['mlb_team'].apply(lambda x: team_dict[x] if x in ['CWS', 'WSH'] else x)\n",
    "cbs.merge(id_map['mlb_team', 'cbs_name', 'cbs_id'], 'left', left_on=('Name','Team'), right_on=('cbs_name','mlb_team')"
   ]
  },
  {
   "cell_type": "code",
   "execution_count": 122,
   "metadata": {},
   "outputs": [
    {
     "output_type": "execute_result",
     "data": {
      "text/plain": [
       "                    Name Team\n",
       "2658   Alexander Ramirez  NYM\n",
       "2612   Alexander Ramirez  LAA\n",
       "1721      Anthony Garcia  LAD\n",
       "2281      Anthony Garcia  NYY\n",
       "188         Carlos Perez  CHW\n",
       "2821        Carlos Perez  OAK\n",
       "2593    Cristian Santana  LAD\n",
       "2270    Cristian Santana  DET\n",
       "627        Jose Martinez  MIN\n",
       "2606       Jose Martinez  NYM\n",
       "2201        Juan Ciriaco  COL\n",
       "441         Juan Ciriaco   SF\n",
       "2150     Julio Rodriguez  STL\n",
       "1417     Julio Rodriguez  SEA\n",
       "2110        Logan Taylor  SEA\n",
       "2673        Logan Taylor  CIN\n",
       "2832         Luis Garcia  PHI\n",
       "848          Luis Garcia  WAS\n",
       "856        Luis Gonzalez  CHW\n",
       "1278       Luis Gonzalez  MIL\n",
       "690          Luis Medina  MIL\n",
       "175          Luis Medina  MIL\n",
       "462           Matt Jones  ARI\n",
       "2807          Matt Jones  LAD\n",
       "1790  Michael De La Cruz  TOR\n",
       "361   Michael De La Cruz  PIT\n",
       "110          Ryan Howard  COL\n",
       "1600         Ryan Howard   SF\n",
       "1952          Ryan Scott  SEA\n",
       "1616          Ryan Scott  BOS\n",
       "1290       Victor Acosta   SD\n",
       "901        Victor Acosta  LAA\n",
       "433        Wander Franco   KC\n",
       "2298       Wander Franco   TB"
      ],
      "text/html": "<div>\n<style scoped>\n    .dataframe tbody tr th:only-of-type {\n        vertical-align: middle;\n    }\n\n    .dataframe tbody tr th {\n        vertical-align: top;\n    }\n\n    .dataframe thead th {\n        text-align: right;\n    }\n</style>\n<table border=\"1\" class=\"dataframe\">\n  <thead>\n    <tr style=\"text-align: right;\">\n      <th></th>\n      <th>Name</th>\n      <th>Team</th>\n    </tr>\n  </thead>\n  <tbody>\n    <tr>\n      <th>2658</th>\n      <td>Alexander Ramirez</td>\n      <td>NYM</td>\n    </tr>\n    <tr>\n      <th>2612</th>\n      <td>Alexander Ramirez</td>\n      <td>LAA</td>\n    </tr>\n    <tr>\n      <th>1721</th>\n      <td>Anthony Garcia</td>\n      <td>LAD</td>\n    </tr>\n    <tr>\n      <th>2281</th>\n      <td>Anthony Garcia</td>\n      <td>NYY</td>\n    </tr>\n    <tr>\n      <th>188</th>\n      <td>Carlos Perez</td>\n      <td>CHW</td>\n    </tr>\n    <tr>\n      <th>2821</th>\n      <td>Carlos Perez</td>\n      <td>OAK</td>\n    </tr>\n    <tr>\n      <th>2593</th>\n      <td>Cristian Santana</td>\n      <td>LAD</td>\n    </tr>\n    <tr>\n      <th>2270</th>\n      <td>Cristian Santana</td>\n      <td>DET</td>\n    </tr>\n    <tr>\n      <th>627</th>\n      <td>Jose Martinez</td>\n      <td>MIN</td>\n    </tr>\n    <tr>\n      <th>2606</th>\n      <td>Jose Martinez</td>\n      <td>NYM</td>\n    </tr>\n    <tr>\n      <th>2201</th>\n      <td>Juan Ciriaco</td>\n      <td>COL</td>\n    </tr>\n    <tr>\n      <th>441</th>\n      <td>Juan Ciriaco</td>\n      <td>SF</td>\n    </tr>\n    <tr>\n      <th>2150</th>\n      <td>Julio Rodriguez</td>\n      <td>STL</td>\n    </tr>\n    <tr>\n      <th>1417</th>\n      <td>Julio Rodriguez</td>\n      <td>SEA</td>\n    </tr>\n    <tr>\n      <th>2110</th>\n      <td>Logan Taylor</td>\n      <td>SEA</td>\n    </tr>\n    <tr>\n      <th>2673</th>\n      <td>Logan Taylor</td>\n      <td>CIN</td>\n    </tr>\n    <tr>\n      <th>2832</th>\n      <td>Luis Garcia</td>\n      <td>PHI</td>\n    </tr>\n    <tr>\n      <th>848</th>\n      <td>Luis Garcia</td>\n      <td>WAS</td>\n    </tr>\n    <tr>\n      <th>856</th>\n      <td>Luis Gonzalez</td>\n      <td>CHW</td>\n    </tr>\n    <tr>\n      <th>1278</th>\n      <td>Luis Gonzalez</td>\n      <td>MIL</td>\n    </tr>\n    <tr>\n      <th>690</th>\n      <td>Luis Medina</td>\n      <td>MIL</td>\n    </tr>\n    <tr>\n      <th>175</th>\n      <td>Luis Medina</td>\n      <td>MIL</td>\n    </tr>\n    <tr>\n      <th>462</th>\n      <td>Matt Jones</td>\n      <td>ARI</td>\n    </tr>\n    <tr>\n      <th>2807</th>\n      <td>Matt Jones</td>\n      <td>LAD</td>\n    </tr>\n    <tr>\n      <th>1790</th>\n      <td>Michael De La Cruz</td>\n      <td>TOR</td>\n    </tr>\n    <tr>\n      <th>361</th>\n      <td>Michael De La Cruz</td>\n      <td>PIT</td>\n    </tr>\n    <tr>\n      <th>110</th>\n      <td>Ryan Howard</td>\n      <td>COL</td>\n    </tr>\n    <tr>\n      <th>1600</th>\n      <td>Ryan Howard</td>\n      <td>SF</td>\n    </tr>\n    <tr>\n      <th>1952</th>\n      <td>Ryan Scott</td>\n      <td>SEA</td>\n    </tr>\n    <tr>\n      <th>1616</th>\n      <td>Ryan Scott</td>\n      <td>BOS</td>\n    </tr>\n    <tr>\n      <th>1290</th>\n      <td>Victor Acosta</td>\n      <td>SD</td>\n    </tr>\n    <tr>\n      <th>901</th>\n      <td>Victor Acosta</td>\n      <td>LAA</td>\n    </tr>\n    <tr>\n      <th>433</th>\n      <td>Wander Franco</td>\n      <td>KC</td>\n    </tr>\n    <tr>\n      <th>2298</th>\n      <td>Wander Franco</td>\n      <td>TB</td>\n    </tr>\n  </tbody>\n</table>\n</div>"
     },
     "metadata": {},
     "execution_count": 122
    }
   ],
   "source": [
    "id_map.dropna(subset=['cbs_name'])\n",
    "id_map.dropna(subset=['cbs_name']).duplicated(subset=('cbs_name', 'mlb_team')).sum()\n",
    "dups = cbs['Name'].duplicated(keep=False)\n",
    "cbs[['Name','Team']][dups].sort_values('Name')"
   ]
  },
  {
   "cell_type": "code",
   "execution_count": 123,
   "metadata": {},
   "outputs": [
    {
     "output_type": "execute_result",
     "data": {
      "text/plain": [
       "Index(['Avail', 'Player', 'Eligible', 'BPA', 'AB', '2B', '3B', 'HR', 'BB', 'K',\n",
       "       'R', 'RBI', 'SB', 'AVG', 'OBP', 'SLG', 'OPS', 'Rank', 'Name', 'Team'],\n",
       "      dtype='object')"
      ]
     },
     "metadata": {},
     "execution_count": 123
    }
   ],
   "source": [
    "# Next....\n",
    "## Download cbs_proj\n",
    "cbs_pt = pd.read_csv('../data/projections/2021/cbs_hitter_proj.csv')\n",
    "\n",
    "## merge playtime from proj. w/ elig\n",
    "elig = elig.merge(cbs_pt['Player','BPA'], left_on='Player', right_on='Player', how='left')\n",
    "elig = elig[elig['PA'] > 0]\n",
    "dups = elig['Name'].duplicated(keep=False)\n",
    "## view duplicated names with more than 0 PA\n",
    "elig[['Name','Team']][dups].sort_values('Name')"
   ]
  },
  {
   "cell_type": "code",
   "execution_count": 124,
   "metadata": {},
   "outputs": [],
   "source": [
    "## left merge elig with id_map\n",
    "## You might have to manaully do a few.\n",
    "\n",
    "elig.merge(id_map[['fg_id','cbs_name', 'Avail']], left_on='Name', right_on='cbs_name')"
   ]
  },
  {
   "cell_type": "code",
   "execution_count": 83,
   "metadata": {},
   "outputs": [],
   "source": [
    "## This sucks and I don't have time for it. Remember when CBS used to publish their player ids?\n",
    "\n",
    "elig = pd.read_csv('../data/projections/2021/fg_defense.csv')[['Name', 'Team', 'Pos', 'G', 'playerid']]\n",
    "def true_if_played_at(player, pos, min=10):\n",
    "    '''Return true if the player played min games at pos; else false.\n",
    "    '''\n",
    "    if player['Pos'] == pos:\n",
    "        if player['G'] >= min:\n",
    "            return True\n",
    "        else:\n",
    "            return False\n",
    "    else:\n",
    "        return False\n",
    "\n",
    "for pos in elig.Pos.unique():\n",
    "    elig[pos] = elig.apply(true_if_played_at, args=(pos, 10), axis=1)\n",
    "\n"
   ]
  },
  {
   "cell_type": "code",
   "execution_count": 84,
   "metadata": {},
   "outputs": [
    {
     "output_type": "execute_result",
     "data": {
      "text/plain": [
       "            Name Team Pos  G  playerid     1B     3B      P     SS      C  \\\n",
       "4  Andrew Romine  TEX  SS  1      1159  False  False  False  False  False   \n",
       "\n",
       "      LF     RF     2B     CF  \n",
       "4  False  False  False  False  "
      ],
      "text/html": "<div>\n<style scoped>\n    .dataframe tbody tr th:only-of-type {\n        vertical-align: middle;\n    }\n\n    .dataframe tbody tr th {\n        vertical-align: top;\n    }\n\n    .dataframe thead th {\n        text-align: right;\n    }\n</style>\n<table border=\"1\" class=\"dataframe\">\n  <thead>\n    <tr style=\"text-align: right;\">\n      <th></th>\n      <th>Name</th>\n      <th>Team</th>\n      <th>Pos</th>\n      <th>G</th>\n      <th>playerid</th>\n      <th>1B</th>\n      <th>3B</th>\n      <th>P</th>\n      <th>SS</th>\n      <th>C</th>\n      <th>LF</th>\n      <th>RF</th>\n      <th>2B</th>\n      <th>CF</th>\n    </tr>\n  </thead>\n  <tbody>\n    <tr>\n      <th>4</th>\n      <td>Andrew Romine</td>\n      <td>TEX</td>\n      <td>SS</td>\n      <td>1</td>\n      <td>1159</td>\n      <td>False</td>\n      <td>False</td>\n      <td>False</td>\n      <td>False</td>\n      <td>False</td>\n      <td>False</td>\n      <td>False</td>\n      <td>False</td>\n      <td>False</td>\n    </tr>\n  </tbody>\n</table>\n</div>"
     },
     "metadata": {},
     "execution_count": 84
    }
   ],
   "source": [
    "elig[elig['playerid'] == 1159]"
   ]
  },
  {
   "cell_type": "code",
   "execution_count": 85,
   "metadata": {},
   "outputs": [
    {
     "output_type": "execute_result",
     "data": {
      "text/plain": [
       "                        Name Team Pos   G     1B     3B      P     SS      C  \\\n",
       "playerid                                                                       \n",
       "785             Todd Frazier  TEX   P  29   True   True  False  False  False   \n",
       "1157            Tommy Hunter  PHI   P  24  False  False   True  False  False   \n",
       "1159           Andrew Romine  TEX  SS   1  False  False  False  False  False   \n",
       "1177           Albert Pujols  LAA  1B  26   True  False  False  False  False   \n",
       "1247           Adam Ottavino  NYY   P  24  False  False   True  False  False   \n",
       "...                      ...  ...  ..  ..    ...    ...    ...    ...    ...   \n",
       "27458         Kwang-hyun Kim  STL   P   8  False  False  False  False  False   \n",
       "27459     Yoshitomo Tsutsugo  TBR  LF  16  False   True  False  False  False   \n",
       "27460         Shun Yamaguchi  TOR   P  17  False  False   True  False  False   \n",
       "27461          Shogo Akiyama  CIN  LF  36  False  False  False  False  False   \n",
       "27463        Garrett Crochet  CHW   P   5  False  False  False  False  False   \n",
       "\n",
       "             LF     RF     2B     CF  \n",
       "playerid                              \n",
       "785       False  False  False  False  \n",
       "1157      False  False  False  False  \n",
       "1159      False  False  False  False  \n",
       "1177      False  False  False  False  \n",
       "1247      False  False  False  False  \n",
       "...         ...    ...    ...    ...  \n",
       "27458     False  False  False  False  \n",
       "27459      True  False  False  False  \n",
       "27460     False  False  False  False  \n",
       "27461      True  False  False   True  \n",
       "27463     False  False  False  False  \n",
       "\n",
       "[1279 rows x 13 columns]"
      ],
      "text/html": "<div>\n<style scoped>\n    .dataframe tbody tr th:only-of-type {\n        vertical-align: middle;\n    }\n\n    .dataframe tbody tr th {\n        vertical-align: top;\n    }\n\n    .dataframe thead th {\n        text-align: right;\n    }\n</style>\n<table border=\"1\" class=\"dataframe\">\n  <thead>\n    <tr style=\"text-align: right;\">\n      <th></th>\n      <th>Name</th>\n      <th>Team</th>\n      <th>Pos</th>\n      <th>G</th>\n      <th>1B</th>\n      <th>3B</th>\n      <th>P</th>\n      <th>SS</th>\n      <th>C</th>\n      <th>LF</th>\n      <th>RF</th>\n      <th>2B</th>\n      <th>CF</th>\n    </tr>\n    <tr>\n      <th>playerid</th>\n      <th></th>\n      <th></th>\n      <th></th>\n      <th></th>\n      <th></th>\n      <th></th>\n      <th></th>\n      <th></th>\n      <th></th>\n      <th></th>\n      <th></th>\n      <th></th>\n      <th></th>\n    </tr>\n  </thead>\n  <tbody>\n    <tr>\n      <th>785</th>\n      <td>Todd Frazier</td>\n      <td>TEX</td>\n      <td>P</td>\n      <td>29</td>\n      <td>True</td>\n      <td>True</td>\n      <td>False</td>\n      <td>False</td>\n      <td>False</td>\n      <td>False</td>\n      <td>False</td>\n      <td>False</td>\n      <td>False</td>\n    </tr>\n    <tr>\n      <th>1157</th>\n      <td>Tommy Hunter</td>\n      <td>PHI</td>\n      <td>P</td>\n      <td>24</td>\n      <td>False</td>\n      <td>False</td>\n      <td>True</td>\n      <td>False</td>\n      <td>False</td>\n      <td>False</td>\n      <td>False</td>\n      <td>False</td>\n      <td>False</td>\n    </tr>\n    <tr>\n      <th>1159</th>\n      <td>Andrew Romine</td>\n      <td>TEX</td>\n      <td>SS</td>\n      <td>1</td>\n      <td>False</td>\n      <td>False</td>\n      <td>False</td>\n      <td>False</td>\n      <td>False</td>\n      <td>False</td>\n      <td>False</td>\n      <td>False</td>\n      <td>False</td>\n    </tr>\n    <tr>\n      <th>1177</th>\n      <td>Albert Pujols</td>\n      <td>LAA</td>\n      <td>1B</td>\n      <td>26</td>\n      <td>True</td>\n      <td>False</td>\n      <td>False</td>\n      <td>False</td>\n      <td>False</td>\n      <td>False</td>\n      <td>False</td>\n      <td>False</td>\n      <td>False</td>\n    </tr>\n    <tr>\n      <th>1247</th>\n      <td>Adam Ottavino</td>\n      <td>NYY</td>\n      <td>P</td>\n      <td>24</td>\n      <td>False</td>\n      <td>False</td>\n      <td>True</td>\n      <td>False</td>\n      <td>False</td>\n      <td>False</td>\n      <td>False</td>\n      <td>False</td>\n      <td>False</td>\n    </tr>\n    <tr>\n      <th>...</th>\n      <td>...</td>\n      <td>...</td>\n      <td>...</td>\n      <td>...</td>\n      <td>...</td>\n      <td>...</td>\n      <td>...</td>\n      <td>...</td>\n      <td>...</td>\n      <td>...</td>\n      <td>...</td>\n      <td>...</td>\n      <td>...</td>\n    </tr>\n    <tr>\n      <th>27458</th>\n      <td>Kwang-hyun Kim</td>\n      <td>STL</td>\n      <td>P</td>\n      <td>8</td>\n      <td>False</td>\n      <td>False</td>\n      <td>False</td>\n      <td>False</td>\n      <td>False</td>\n      <td>False</td>\n      <td>False</td>\n      <td>False</td>\n      <td>False</td>\n    </tr>\n    <tr>\n      <th>27459</th>\n      <td>Yoshitomo Tsutsugo</td>\n      <td>TBR</td>\n      <td>LF</td>\n      <td>16</td>\n      <td>False</td>\n      <td>True</td>\n      <td>False</td>\n      <td>False</td>\n      <td>False</td>\n      <td>True</td>\n      <td>False</td>\n      <td>False</td>\n      <td>False</td>\n    </tr>\n    <tr>\n      <th>27460</th>\n      <td>Shun Yamaguchi</td>\n      <td>TOR</td>\n      <td>P</td>\n      <td>17</td>\n      <td>False</td>\n      <td>False</td>\n      <td>True</td>\n      <td>False</td>\n      <td>False</td>\n      <td>False</td>\n      <td>False</td>\n      <td>False</td>\n      <td>False</td>\n    </tr>\n    <tr>\n      <th>27461</th>\n      <td>Shogo Akiyama</td>\n      <td>CIN</td>\n      <td>LF</td>\n      <td>36</td>\n      <td>False</td>\n      <td>False</td>\n      <td>False</td>\n      <td>False</td>\n      <td>False</td>\n      <td>True</td>\n      <td>False</td>\n      <td>False</td>\n      <td>True</td>\n    </tr>\n    <tr>\n      <th>27463</th>\n      <td>Garrett Crochet</td>\n      <td>CHW</td>\n      <td>P</td>\n      <td>5</td>\n      <td>False</td>\n      <td>False</td>\n      <td>False</td>\n      <td>False</td>\n      <td>False</td>\n      <td>False</td>\n      <td>False</td>\n      <td>False</td>\n      <td>False</td>\n    </tr>\n  </tbody>\n</table>\n<p>1279 rows × 13 columns</p>\n</div>"
     },
     "metadata": {},
     "execution_count": 85
    }
   ],
   "source": [
    "elig.groupby('playerid').agg(max)"
   ]
  },
  {
   "cell_type": "code",
   "execution_count": 73,
   "metadata": {},
   "outputs": [
    {
     "output_type": "error",
     "ename": "SyntaxError",
     "evalue": "unexpected EOF while parsing (<ipython-input-73-5e7c361de6f2>, line 83)",
     "traceback": [
      "\u001b[1;36m  File \u001b[1;32m\"<ipython-input-73-5e7c361de6f2>\"\u001b[1;36m, line \u001b[1;32m83\u001b[0m\n\u001b[1;33m    \u001b[0m\n\u001b[1;37m    ^\u001b[0m\n\u001b[1;31mSyntaxError\u001b[0m\u001b[1;31m:\u001b[0m unexpected EOF while parsing\n"
     ]
    }
   ],
   "source": [
    "class FantasyValuator:\n",
    "    '''A class for providing Standings Points Gained based valuations of hitters.\n",
    "\n",
    "    Attributes\n",
    "    ----------\n",
    "    spg: Pandas Series\n",
    "        A Pandas series of SPG values.\n",
    "\n",
    "    league_BA: float\n",
    "        The expected batting average the fantasy league in which the player's value will be evaluated.         Used for caluculating xH.\n",
    "\n",
    "    league_AB: numeric\n",
    "        The number of at bats of the fantasy team the player will play for.\n",
    "\n",
    "    league_ERA: float\n",
    "        The expected ERA of the fantasy league in which the player's value will be evaluated\n",
    "\n",
    "    ###Docs a work in progress.\n",
    "    '''\n",
    "    def __init__():\n",
    "        self.spg = pd.Series()\n",
    "        self.spg['xH'] = 8.475##used 8.47, nearly matched the real value of 8.486 in 2019.\n",
    "        self.spg['HR'] = 5.286##real value was 4.782\n",
    "        self.spg['R'] = 11.671###used 10.81,real value was 12.532\n",
    "        self.spg['RBI'] = 13.38##used 12.20,was 14.564\n",
    "        self.spg['SB'] = 3.46##used 4.27,was 2.657\n",
    "\n",
    "        self.spg['xER'] = 8.47# was in 2018, 7.85\n",
    "        self.spg['SO'] = 17.47\n",
    "        self.spg['W'] = 1.73\n",
    "        self.spg['SV'] = 4.55\n",
    "        self.spgx['WHIP'] = 12.420\n",
    "        ###was 10.60 in 2018\n",
    "        ##Shit, used 10.848 in 2019; actual value in 2019 was 13.992!\n",
    "        \n",
    "        \n",
    "        self.league_BA = .265\n",
    "        self.league_ERA = 3.79\n",
    "        self.league_WHIP = 1.23\n",
    "        self.hitter_replacement_level = 16.72\n",
    "        self.pitcher_replacement_level = 11.44\n",
    "        self.catcher_replacement_level = 9##This is an approximation.\n",
    "\n",
    "        self.hitter_categories = ['HR','xH','RBI','R','SB']\n",
    "        self.pitcher_categories = ['W','SV','SO','xWHIP','xER']\n",
    "\n",
    "    def evaluate_hitters(self, hitters, use_replacement_level=True):\n",
    "        '''\n",
    "        Return hitter SPG based fantasy value from fantasy stats. \n",
    "        \n",
    "        Paramters\n",
    "        ---------\n",
    "        hitters: dict-like or dataframe\n",
    "            A dataframe or dictionary with columns or indices corresponding to the hitter stats to be\n",
    "            evaluated in the fantasy wins-above-replacement calculation.\n",
    "\n",
    "        Returns\n",
    "        -------\n",
    "            A pd.Series indexed to hitters (for DataFrame of hitters) or a float (for a dict-like of               hitters)\n",
    "        '''\n",
    "        eval_data = hitters[self.hitter_categories]\n",
    "        fWAR = (eval_data/spg[self.hitter_categories]).sum()\n",
    "        if use_replacement_level:\n",
    "            fWAR = fWAR.mask('C' in hitters['elig'], other = fWAR - self.catcher_replacement_level)\n",
    "            fWAR = fWAR.where('C' in hitters['elig'], other = fWAR - self.hitter_replacement_level)\n",
    "        return fWAR\n",
    "\n",
    "    def ERA_to_xER(self,pitchers):\n",
    "        '''Gets a pitchers xER.'''\n",
    "        return (pitchers['ERA']-self.league_ERA)*pitchers['IP']\n",
    "\n",
    "    def BA_to_xH(self, hitters):\n",
    "        '''Get hitters xH'''\n",
    "        return (hitters['BA']-self.league_BA)*hitters['AB']\n",
    "\n",
    "    def WHIP_to_xWHIP(self, pitchers):\n",
    "        return (pitchers['WHIP']-self.league_WHIP)*pitchers['IP']\n",
    "\n",
    "    def _calculate_fWAR(self, hitter_series):\n",
    "\n",
    "        \n",
    "        \n",
    "        "
   ]
  }
 ]
}