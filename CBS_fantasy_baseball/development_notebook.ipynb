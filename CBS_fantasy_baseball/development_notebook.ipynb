{
 "metadata": {
  "language_info": {
   "codemirror_mode": {
    "name": "ipython",
    "version": 3
   },
   "file_extension": ".py",
   "mimetype": "text/x-python",
   "name": "python",
   "nbconvert_exporter": "python",
   "pygments_lexer": "ipython3",
   "version": "3.8.5-final"
  },
  "orig_nbformat": 2,
  "kernelspec": {
   "name": "python3",
   "display_name": "Python 3.8.5 64-bit (conda)",
   "metadata": {
    "interpreter": {
     "hash": "7ef2494915810854adb4ba9dd9b422179b2b7400815761b542ae58f14c894363"
    }
   }
  }
 },
 "nbformat": 4,
 "nbformat_minor": 2,
 "cells": [
  {
   "cell_type": "code",
   "execution_count": 4,
   "metadata": {},
   "outputs": [],
   "source": [
    "import pandas as pd\n"
   ]
  },
  {
   "cell_type": "code",
   "execution_count": null,
   "metadata": {},
   "outputs": [],
   "source": [
    "class FantasyValuator:\n",
    "    '''A class for providing Standings Points Gained based valuations of hitters.\n",
    "\n",
    "    Attributes\n",
    "    ----------\n",
    "    spg: Pandas Series\n",
    "        A Pandas series of SPG values.\n",
    "\n",
    "    league_BA: float\n",
    "        The expected batting average the fantasy league in which the player's value will be evaluated.         Used for caluculating xH.\n",
    "\n",
    "    league_AB: numeric\n",
    "        The number of at bats of the fantasy team the player will play for.\n",
    "\n",
    "    league_ERA: float\n",
    "        The expected ERA of the fantasy league in which the player's value will be evaluated\n",
    "\n",
    "    ###Docs a work in progress.\n",
    "    '''\n",
    "    def __init__():\n",
    "        self.spg = pd.Series()\n",
    "        self.spg['xH'] = 8.475##used 8.47, nearly matched the real value of 8.486 in 2019.\n",
    "        self.spg['HR'] = 5.286##real value was 4.782\n",
    "        self.spg['R'] = 11.671###used 10.81,real value was 12.532\n",
    "        self.spg['RBI'] = 13.38##used 12.20,was 14.564\n",
    "        self.spg['SB'] = 3.46##used 4.27,was 2.657\n",
    "\n",
    "        self.spg['xER'] = 8.47# was in 2018, 7.85\n",
    "        self.spg['SO'] = 17.47\n",
    "        self.spg['W'] = 1.73\n",
    "        self.spg['SV'] = 4.55\n",
    "        self.spgx['WHIP'] = 12.420\n",
    "        ###was 10.60 in 2018\n",
    "        ##Shit, used 10.848 in 2019; actual value in 2019 was 13.992!\n",
    "        \n",
    "        \n",
    "        self.league_BA = .265\n",
    "        self.league_ERA = 3.79\n",
    "        self.league_WHIP = 1.23\n",
    "        self.hitter_replacement_level = 16.72\n",
    "        self.pitcher_replacement_level = 11.44\n",
    "        self.catcher_replacement_level = 9##This is an approximation.\n",
    "\n",
    "        self.hitter_categories = ['HR','xH','RBI','R','SB']\n",
    "        self.pitcher_categories = ['W','SV','SO','xWHIP','xER']\n",
    "\n",
    "    def evaluate_hitters(self, hitters, use_replacement_level=True):\n",
    "        '''\n",
    "        Return hitter SPG based fantasy value from fantasy stats. \n",
    "        \n",
    "        Paramters\n",
    "        ---------\n",
    "        hitters: dict-like or dataframe\n",
    "            A dataframe or dictionary with columns or indices corresponding to the hitter stats to be\n",
    "            evaluated in the fantasy wins-above-replacement calculation.\n",
    "\n",
    "        Returns\n",
    "        -------\n",
    "            A pd.Series indexed to hitters (for DataFrame of hitters) or a float (for a dict-like of               hitters)\n",
    "        '''\n",
    "        eval_data = hitters[self.hitter_categories]\n",
    "        fWAR = (eval_data/spg[self.hitter_categories]).sum()\n",
    "        if use_replacement_level:\n",
    "            fWAR = fWAR.mask('C' in hitters['elig'], other = fWAR - self.catcher_replacement_level)\n",
    "            fWAR = fWAR.where('C' in hitters['elig'], other = fWAR - self.hitter_replacement_level)\n",
    "        return fWAR\n",
    "\n",
    "    def ERA_to_xER(self,pitchers):\n",
    "        '''Gets a pitchers xER.'''\n",
    "        return (pitchers['ERA']-self.league_ERA)*pitchers['IP']\n",
    "\n",
    "    def BA_to_xH(self, hitters):\n",
    "        '''Get hitters xH'''\n",
    "        return (hitters['BA']-self.league_BA)*hitters['AB']\n",
    "\n",
    "    def WHIP_to_xWHIP(self, pitchers):\n",
    "        return (pitchers['WHIP']-self.league_WHIP)*pitchers['IP']\n",
    "\n",
    "    def _calculate_fWAR(self, hitter_series):\n",
    "\n",
    "        \n",
    "        \n",
    "        "
   ]
  },
  {
   "cell_type": "code",
   "execution_count": 5,
   "metadata": {},
   "outputs": [],
   "source": [
    "import os\n",
    "#os.listdir('../data')\n",
    "test = pd.read_csv('../data/TestFiles/hittersProj.csv')\n"
   ]
  },
  {
   "cell_type": "code",
   "execution_count": 6,
   "metadata": {},
   "outputs": [
    {
     "output_type": "execute_result",
     "data": {
      "text/plain": [
       "                Name     Team    G   PA   AB    H  2B  3B  HR    R  ...  CS  \\\n",
       "0         Mike Trout   Angels  157  658  516  155  29   4  39  119  ...   7   \n",
       "1      J.D. Martinez  Red Sox  155  651  574  170  35   2  39  101  ...   2   \n",
       "2       Bryce Harper      NaN  150  630  510  136  28   1  34   95  ...   5   \n",
       "3       Mookie Betts  Red Sox  162  679  588  178  42   3  29  116  ...   8   \n",
       "4  Giancarlo Stanton  Yankees  145  609  530  142  25   1  45   95  ...   1   \n",
       "\n",
       "     AVG    OBP    SLG    OPS   wOBA   Fld  BsR  WAR  playerid  \n",
       "0  0.300  0.441  0.600  1.041  0.431  -0.6  3.4  9.3     10155  \n",
       "1  0.297  0.372  0.569  0.940  0.393  -0.2 -2.5  4.1      6184  \n",
       "2  0.267  0.399  0.528  0.927  0.390  -2.6  0.7  4.9     11579  \n",
       "3  0.303  0.385  0.537  0.922  0.390  14.6  5.6  7.4     13611  \n",
       "4  0.267  0.354  0.570  0.923  0.386   0.8 -0.4  4.3      4949  \n",
       "\n",
       "[5 rows x 25 columns]"
      ],
      "text/html": "<div>\n<style scoped>\n    .dataframe tbody tr th:only-of-type {\n        vertical-align: middle;\n    }\n\n    .dataframe tbody tr th {\n        vertical-align: top;\n    }\n\n    .dataframe thead th {\n        text-align: right;\n    }\n</style>\n<table border=\"1\" class=\"dataframe\">\n  <thead>\n    <tr style=\"text-align: right;\">\n      <th></th>\n      <th>Name</th>\n      <th>Team</th>\n      <th>G</th>\n      <th>PA</th>\n      <th>AB</th>\n      <th>H</th>\n      <th>2B</th>\n      <th>3B</th>\n      <th>HR</th>\n      <th>R</th>\n      <th>...</th>\n      <th>CS</th>\n      <th>AVG</th>\n      <th>OBP</th>\n      <th>SLG</th>\n      <th>OPS</th>\n      <th>wOBA</th>\n      <th>Fld</th>\n      <th>BsR</th>\n      <th>WAR</th>\n      <th>playerid</th>\n    </tr>\n  </thead>\n  <tbody>\n    <tr>\n      <th>0</th>\n      <td>Mike Trout</td>\n      <td>Angels</td>\n      <td>157</td>\n      <td>658</td>\n      <td>516</td>\n      <td>155</td>\n      <td>29</td>\n      <td>4</td>\n      <td>39</td>\n      <td>119</td>\n      <td>...</td>\n      <td>7</td>\n      <td>0.300</td>\n      <td>0.441</td>\n      <td>0.600</td>\n      <td>1.041</td>\n      <td>0.431</td>\n      <td>-0.6</td>\n      <td>3.4</td>\n      <td>9.3</td>\n      <td>10155</td>\n    </tr>\n    <tr>\n      <th>1</th>\n      <td>J.D. Martinez</td>\n      <td>Red Sox</td>\n      <td>155</td>\n      <td>651</td>\n      <td>574</td>\n      <td>170</td>\n      <td>35</td>\n      <td>2</td>\n      <td>39</td>\n      <td>101</td>\n      <td>...</td>\n      <td>2</td>\n      <td>0.297</td>\n      <td>0.372</td>\n      <td>0.569</td>\n      <td>0.940</td>\n      <td>0.393</td>\n      <td>-0.2</td>\n      <td>-2.5</td>\n      <td>4.1</td>\n      <td>6184</td>\n    </tr>\n    <tr>\n      <th>2</th>\n      <td>Bryce Harper</td>\n      <td>NaN</td>\n      <td>150</td>\n      <td>630</td>\n      <td>510</td>\n      <td>136</td>\n      <td>28</td>\n      <td>1</td>\n      <td>34</td>\n      <td>95</td>\n      <td>...</td>\n      <td>5</td>\n      <td>0.267</td>\n      <td>0.399</td>\n      <td>0.528</td>\n      <td>0.927</td>\n      <td>0.390</td>\n      <td>-2.6</td>\n      <td>0.7</td>\n      <td>4.9</td>\n      <td>11579</td>\n    </tr>\n    <tr>\n      <th>3</th>\n      <td>Mookie Betts</td>\n      <td>Red Sox</td>\n      <td>162</td>\n      <td>679</td>\n      <td>588</td>\n      <td>178</td>\n      <td>42</td>\n      <td>3</td>\n      <td>29</td>\n      <td>116</td>\n      <td>...</td>\n      <td>8</td>\n      <td>0.303</td>\n      <td>0.385</td>\n      <td>0.537</td>\n      <td>0.922</td>\n      <td>0.390</td>\n      <td>14.6</td>\n      <td>5.6</td>\n      <td>7.4</td>\n      <td>13611</td>\n    </tr>\n    <tr>\n      <th>4</th>\n      <td>Giancarlo Stanton</td>\n      <td>Yankees</td>\n      <td>145</td>\n      <td>609</td>\n      <td>530</td>\n      <td>142</td>\n      <td>25</td>\n      <td>1</td>\n      <td>45</td>\n      <td>95</td>\n      <td>...</td>\n      <td>1</td>\n      <td>0.267</td>\n      <td>0.354</td>\n      <td>0.570</td>\n      <td>0.923</td>\n      <td>0.386</td>\n      <td>0.8</td>\n      <td>-0.4</td>\n      <td>4.3</td>\n      <td>4949</td>\n    </tr>\n  </tbody>\n</table>\n<p>5 rows × 25 columns</p>\n</div>"
     },
     "metadata": {},
     "execution_count": 6
    }
   ],
   "source": [
    "test.head()"
   ]
  },
  {
   "cell_type": "code",
   "execution_count": 20,
   "metadata": {},
   "outputs": [
    {
     "output_type": "execute_result",
     "data": {
      "text/plain": [
       "     elig\n",
       "0  [C, U]\n",
       "1     [U]"
      ],
      "text/html": "<div>\n<style scoped>\n    .dataframe tbody tr th:only-of-type {\n        vertical-align: middle;\n    }\n\n    .dataframe tbody tr th {\n        vertical-align: top;\n    }\n\n    .dataframe thead th {\n        text-align: right;\n    }\n</style>\n<table border=\"1\" class=\"dataframe\">\n  <thead>\n    <tr style=\"text-align: right;\">\n      <th></th>\n      <th>elig</th>\n    </tr>\n  </thead>\n  <tbody>\n    <tr>\n      <th>0</th>\n      <td>[C, U]</td>\n    </tr>\n    <tr>\n      <th>1</th>\n      <td>[U]</td>\n    </tr>\n  </tbody>\n</table>\n</div>"
     },
     "metadata": {},
     "execution_count": 20
    }
   ],
   "source": [
    "x = pd.DataFrame({'elig':[['C','U'],['U']]})\n",
    "x"
   ]
  },
  {
   "cell_type": "code",
   "execution_count": 21,
   "metadata": {},
   "outputs": [
    {
     "output_type": "error",
     "ename": "ValueError",
     "evalue": "Array conditional must be same shape as self",
     "traceback": [
      "\u001b[1;31m---------------------------------------------------------------------------\u001b[0m",
      "\u001b[1;31mValueError\u001b[0m                                Traceback (most recent call last)",
      "\u001b[1;32m<ipython-input-21-6cfcdacbf868>\u001b[0m in \u001b[0;36m<module>\u001b[1;34m\u001b[0m\n\u001b[0;32m      1\u001b[0m \u001b[0mx\u001b[0m\u001b[1;33m[\u001b[0m\u001b[1;34m'catcher'\u001b[0m\u001b[1;33m]\u001b[0m \u001b[1;33m=\u001b[0m \u001b[1;32mFalse\u001b[0m\u001b[1;33m\u001b[0m\u001b[1;33m\u001b[0m\u001b[0m\n\u001b[1;32m----> 2\u001b[1;33m \u001b[0mx\u001b[0m\u001b[1;33m[\u001b[0m\u001b[1;34m'catcher'\u001b[0m\u001b[1;33m]\u001b[0m \u001b[1;33m=\u001b[0m \u001b[0mx\u001b[0m\u001b[1;33m.\u001b[0m\u001b[0mmask\u001b[0m\u001b[1;33m(\u001b[0m\u001b[1;34m'C'\u001b[0m \u001b[1;32min\u001b[0m \u001b[0mx\u001b[0m\u001b[1;33m[\u001b[0m\u001b[1;34m'elig'\u001b[0m\u001b[1;33m]\u001b[0m\u001b[1;33m,\u001b[0m \u001b[1;32mTrue\u001b[0m\u001b[1;33m)\u001b[0m\u001b[1;33m\u001b[0m\u001b[1;33m\u001b[0m\u001b[0m\n\u001b[0m\u001b[0;32m      3\u001b[0m \u001b[1;34m'C'\u001b[0m \u001b[1;32min\u001b[0m \u001b[0mx\u001b[0m\u001b[1;33m[\u001b[0m\u001b[1;34m'elig'\u001b[0m\u001b[1;33m]\u001b[0m\u001b[1;33m\u001b[0m\u001b[1;33m\u001b[0m\u001b[0m\n",
      "\u001b[1;32m~\\Anaconda3\\lib\\site-packages\\pandas\\core\\generic.py\u001b[0m in \u001b[0;36mmask\u001b[1;34m(self, cond, other, inplace, axis, level, errors, try_cast)\u001b[0m\n\u001b[0;32m   9032\u001b[0m             \u001b[0mcond\u001b[0m \u001b[1;33m=\u001b[0m \u001b[0mnp\u001b[0m\u001b[1;33m.\u001b[0m\u001b[0marray\u001b[0m\u001b[1;33m(\u001b[0m\u001b[0mcond\u001b[0m\u001b[1;33m)\u001b[0m\u001b[1;33m\u001b[0m\u001b[1;33m\u001b[0m\u001b[0m\n\u001b[0;32m   9033\u001b[0m \u001b[1;33m\u001b[0m\u001b[0m\n\u001b[1;32m-> 9034\u001b[1;33m         return self.where(\n\u001b[0m\u001b[0;32m   9035\u001b[0m             \u001b[1;33m~\u001b[0m\u001b[0mcond\u001b[0m\u001b[1;33m,\u001b[0m\u001b[1;33m\u001b[0m\u001b[1;33m\u001b[0m\u001b[0m\n\u001b[0;32m   9036\u001b[0m             \u001b[0mother\u001b[0m\u001b[1;33m=\u001b[0m\u001b[0mother\u001b[0m\u001b[1;33m,\u001b[0m\u001b[1;33m\u001b[0m\u001b[1;33m\u001b[0m\u001b[0m\n",
      "\u001b[1;32m~\\Anaconda3\\lib\\site-packages\\pandas\\core\\generic.py\u001b[0m in \u001b[0;36mwhere\u001b[1;34m(self, cond, other, inplace, axis, level, errors, try_cast)\u001b[0m\n\u001b[0;32m   9002\u001b[0m         \"\"\"\n\u001b[0;32m   9003\u001b[0m         \u001b[0mother\u001b[0m \u001b[1;33m=\u001b[0m \u001b[0mcom\u001b[0m\u001b[1;33m.\u001b[0m\u001b[0mapply_if_callable\u001b[0m\u001b[1;33m(\u001b[0m\u001b[0mother\u001b[0m\u001b[1;33m,\u001b[0m \u001b[0mself\u001b[0m\u001b[1;33m)\u001b[0m\u001b[1;33m\u001b[0m\u001b[1;33m\u001b[0m\u001b[0m\n\u001b[1;32m-> 9004\u001b[1;33m         return self._where(\n\u001b[0m\u001b[0;32m   9005\u001b[0m             \u001b[0mcond\u001b[0m\u001b[1;33m,\u001b[0m \u001b[0mother\u001b[0m\u001b[1;33m,\u001b[0m \u001b[0minplace\u001b[0m\u001b[1;33m,\u001b[0m \u001b[0maxis\u001b[0m\u001b[1;33m,\u001b[0m \u001b[0mlevel\u001b[0m\u001b[1;33m,\u001b[0m \u001b[0merrors\u001b[0m\u001b[1;33m=\u001b[0m\u001b[0merrors\u001b[0m\u001b[1;33m,\u001b[0m \u001b[0mtry_cast\u001b[0m\u001b[1;33m=\u001b[0m\u001b[0mtry_cast\u001b[0m\u001b[1;33m\u001b[0m\u001b[1;33m\u001b[0m\u001b[0m\n\u001b[0;32m   9006\u001b[0m         )\n",
      "\u001b[1;32m~\\Anaconda3\\lib\\site-packages\\pandas\\core\\generic.py\u001b[0m in \u001b[0;36m_where\u001b[1;34m(self, cond, other, inplace, axis, level, errors, try_cast)\u001b[0m\n\u001b[0;32m   8747\u001b[0m                 \u001b[0mcond\u001b[0m \u001b[1;33m=\u001b[0m \u001b[0mnp\u001b[0m\u001b[1;33m.\u001b[0m\u001b[0masanyarray\u001b[0m\u001b[1;33m(\u001b[0m\u001b[0mcond\u001b[0m\u001b[1;33m)\u001b[0m\u001b[1;33m\u001b[0m\u001b[1;33m\u001b[0m\u001b[0m\n\u001b[0;32m   8748\u001b[0m             \u001b[1;32mif\u001b[0m \u001b[0mcond\u001b[0m\u001b[1;33m.\u001b[0m\u001b[0mshape\u001b[0m \u001b[1;33m!=\u001b[0m \u001b[0mself\u001b[0m\u001b[1;33m.\u001b[0m\u001b[0mshape\u001b[0m\u001b[1;33m:\u001b[0m\u001b[1;33m\u001b[0m\u001b[1;33m\u001b[0m\u001b[0m\n\u001b[1;32m-> 8749\u001b[1;33m                 \u001b[1;32mraise\u001b[0m \u001b[0mValueError\u001b[0m\u001b[1;33m(\u001b[0m\u001b[1;34m\"Array conditional must be same shape as self\"\u001b[0m\u001b[1;33m)\u001b[0m\u001b[1;33m\u001b[0m\u001b[1;33m\u001b[0m\u001b[0m\n\u001b[0m\u001b[0;32m   8750\u001b[0m             \u001b[0mcond\u001b[0m \u001b[1;33m=\u001b[0m \u001b[0mself\u001b[0m\u001b[1;33m.\u001b[0m\u001b[0m_constructor\u001b[0m\u001b[1;33m(\u001b[0m\u001b[0mcond\u001b[0m\u001b[1;33m,\u001b[0m \u001b[1;33m**\u001b[0m\u001b[0mself\u001b[0m\u001b[1;33m.\u001b[0m\u001b[0m_construct_axes_dict\u001b[0m\u001b[1;33m(\u001b[0m\u001b[1;33m)\u001b[0m\u001b[1;33m)\u001b[0m\u001b[1;33m\u001b[0m\u001b[1;33m\u001b[0m\u001b[0m\n\u001b[0;32m   8751\u001b[0m \u001b[1;33m\u001b[0m\u001b[0m\n",
      "\u001b[1;31mValueError\u001b[0m: Array conditional must be same shape as self"
     ]
    }
   ],
   "source": [
    "x['catcher'] = False\n",
    "x['catcher'] = x.mask('C' in x['elig'], True)\n",
    "'C' in x['elig']"
   ]
  },
  {
   "cell_type": "code",
   "execution_count": null,
   "metadata": {},
   "outputs": [],
   "source": []
  }
 ]
}