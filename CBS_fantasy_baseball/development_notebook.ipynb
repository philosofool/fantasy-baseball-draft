{
 "metadata": {
  "language_info": {
   "codemirror_mode": {
    "name": "ipython",
    "version": 3
   },
   "file_extension": ".py",
   "mimetype": "text/x-python",
   "name": "python",
   "nbconvert_exporter": "python",
   "pygments_lexer": "ipython3",
   "version": "3.8.5-final"
  },
  "orig_nbformat": 2,
  "kernelspec": {
   "name": "python3",
   "display_name": "Python 3",
   "language": "python"
  }
 },
 "nbformat": 4,
 "nbformat_minor": 2,
 "cells": [
  {
   "cell_type": "code",
   "execution_count": 64,
   "metadata": {},
   "outputs": [],
   "source": [
    "import pandas as pd\n",
    "import numpy as np"
   ]
  },
  {
   "cell_type": "code",
   "execution_count": 4,
   "metadata": {},
   "outputs": [
    {
     "output_type": "stream",
     "name": "stdout",
     "text": [
      " Volume in drive C is Windows-SSD\n Volume Serial Number is 220E-4420\n\n Directory of c:\\Users\\lenha\\Repos\\fantasy-baseball-draft\\CBS_fantasy_baseball\n\n03/05/2021  07:30 AM    <DIR>          .\n03/05/2021  07:30 AM    <DIR>          ..\n03/05/2021  07:30 AM                 0 __init__.py\n03/05/2021  07:30 AM               290 assistant.py\n03/05/2021  07:30 AM            21,785 BaseFantasyClasses.py\n03/26/2021  07:42 AM            23,621 development_notebook.ipynb\n03/05/2021  07:30 AM    <DIR>          file_handlers\n03/05/2021  07:30 AM             1,011 pitchers.py\n03/05/2021  07:30 AM    <DIR>          player\n03/05/2021  07:30 AM            13,513 stats.py\n03/05/2021  07:30 AM    <DIR>          team\n               6 File(s)         60,220 bytes\n               5 Dir(s)  77,711,114,240 bytes free\n"
     ]
    }
   ],
   "source": [
    "%ls"
   ]
  },
  {
   "cell_type": "code",
   "execution_count": 8,
   "metadata": {},
   "outputs": [],
   "source": [
    "df1 = pd.read_csv('../data/projections/2021/bat hitters.csv')\n",
    "df2 = pd.read_csv('../data/projections/2021/bat x hitters.csv')\n",
    "df3 = pd.read_csv('../data/projections/2021/steamer batters.csv')\n",
    "df4 = pd.read_csv('../data/projections/2021/zips hitters.csv')"
   ]
  },
  {
   "cell_type": "code",
   "execution_count": 27,
   "metadata": {},
   "outputs": [],
   "source": [
    "dfs = [df1, df2, df3, df4]\n",
    "score_cats = ['R','HR', 'RBI', 'H', 'AB', 'SB']\n",
    "bio_cats = ['Name', 'playerid','Team','PA']\n",
    "for df in dfs:\n",
    "    for c in score_cats:\n",
    "        if c not in df.columns:\n",
    "            print('Ahk!')\n",
    "    for c in bio_cats:\n",
    "        if c not in df.columns:\n",
    "            print(\"Yeesh!\")"
   ]
  },
  {
   "cell_type": "code",
   "execution_count": 39,
   "metadata": {},
   "outputs": [],
   "source": [
    "def df_to_fb_stats(df):\n",
    "    if df['HR'].dtype:\n",
    "        pass\n",
    "    df = df[bio_cats + score_cats].copy()\n",
    "    for col in score_cats:\n",
    "        df[col] = df[col]/df['PA']\n",
    "    return df\n",
    "dfs2 = []\n",
    "for df in dfs:\n",
    "    df = df_to_fb_stats(df)\n",
    "    dfs2.append(df)\n",
    "dfs2[0].head()\n",
    "dfs = dfs2"
   ]
  },
  {
   "cell_type": "code",
   "execution_count": 73,
   "metadata": {},
   "outputs": [
    {
     "output_type": "execute_result",
     "data": {
      "text/plain": [
       "Index(['Name_bat', 'playerid', 'Team_bat', 'Name_xbat', 'Team_xbat',\n",
       "       'Name_stmr', 'Team_stmr', 'Name_zips', 'Team_zips', 'Name'],\n",
       "      dtype='object')"
      ]
     },
     "metadata": {},
     "execution_count": 73
    }
   ],
   "source": [
    "merged.select_dtypes(object).columns"
   ]
  },
  {
   "cell_type": "code",
   "execution_count": 42,
   "metadata": {},
   "outputs": [],
   "source": [
    "merged = None\n",
    "merged = pd.merge(dfs[0], dfs[1], 'outer', left_on='playerid', right_on='playerid', suffixes=('_bat', '_xbat'))\n",
    "merged = pd.merge(merged, dfs[2], 'outer', left_on='playerid', right_on='playerid')\n",
    "merged = pd.merge(merged, dfs[3], 'outer', left_on='playerid', right_on='playerid', suffixes=('_stmr', '_zips'))"
   ]
  },
  {
   "cell_type": "code",
   "execution_count": 83,
   "metadata": {},
   "outputs": [],
   "source": [
    "merged.isna()\n",
    "#def agg_score_cols(df):\n",
    "cols = merged.columns.str.startswith('Team')\n",
    "cols = merged.columns[cols]\n",
    "def set_team(series):\n",
    "    if series.isna().all():\n",
    "        return np.nan\n",
    "    else:\n",
    "        return series.dropna().iloc[0]\n",
    "merged['Team'] = merged[cols].apply(set_team, axis = 1)\n",
    "\n",
    "merged['Team'] = merged[cols].apply(lambda x: x.dropna().iloc[0], axis=1)\n",
    "merged.iloc[0].dropna()\n",
    "for stat in score_cats:\n",
    "    cols = merged.columns.str.startswith(stat)\n",
    "    merged[stat] = merged[merged.columns[cols]].apply(np.mean, axis = 1)\n"
   ]
  },
  {
   "cell_type": "code",
   "execution_count": 87,
   "metadata": {},
   "outputs": [],
   "source": [
    "merged = merged[bio_cats[:-1] + score_cats]"
   ]
  },
  {
   "cell_type": "code",
   "execution_count": 92,
   "metadata": {},
   "outputs": [
    {
     "output_type": "execute_result",
     "data": {
      "text/plain": [
       "               Name playerid Team         R        HR       RBI         H  \\\n",
       "0        Mike Trout    10155  LAA  0.168681  0.063104  0.167421  0.135713   \n",
       "1         Juan Soto    20123  WSN  0.172518  0.055979  0.177381  0.140262   \n",
       "2   Freddie Freeman     5361  ATL  0.155080  0.045781  0.156940  0.137330   \n",
       "3  Christian Yelich    11477  MIL  0.149860  0.051534  0.144707  0.133858   \n",
       "4      Bryce Harper    11579  PHI  0.157180  0.054264  0.159416  0.125204   \n",
       "\n",
       "         AB        SB  \n",
       "0  0.795689  0.016909  \n",
       "1  0.819014  0.018970  \n",
       "2  0.849179  0.009746  \n",
       "3  0.846531  0.027127  \n",
       "4  0.814496  0.020378  "
      ],
      "text/html": "<div>\n<style scoped>\n    .dataframe tbody tr th:only-of-type {\n        vertical-align: middle;\n    }\n\n    .dataframe tbody tr th {\n        vertical-align: top;\n    }\n\n    .dataframe thead th {\n        text-align: right;\n    }\n</style>\n<table border=\"1\" class=\"dataframe\">\n  <thead>\n    <tr style=\"text-align: right;\">\n      <th></th>\n      <th>Name</th>\n      <th>playerid</th>\n      <th>Team</th>\n      <th>R</th>\n      <th>HR</th>\n      <th>RBI</th>\n      <th>H</th>\n      <th>AB</th>\n      <th>SB</th>\n    </tr>\n  </thead>\n  <tbody>\n    <tr>\n      <th>0</th>\n      <td>Mike Trout</td>\n      <td>10155</td>\n      <td>LAA</td>\n      <td>0.168681</td>\n      <td>0.063104</td>\n      <td>0.167421</td>\n      <td>0.135713</td>\n      <td>0.795689</td>\n      <td>0.016909</td>\n    </tr>\n    <tr>\n      <th>1</th>\n      <td>Juan Soto</td>\n      <td>20123</td>\n      <td>WSN</td>\n      <td>0.172518</td>\n      <td>0.055979</td>\n      <td>0.177381</td>\n      <td>0.140262</td>\n      <td>0.819014</td>\n      <td>0.018970</td>\n    </tr>\n    <tr>\n      <th>2</th>\n      <td>Freddie Freeman</td>\n      <td>5361</td>\n      <td>ATL</td>\n      <td>0.155080</td>\n      <td>0.045781</td>\n      <td>0.156940</td>\n      <td>0.137330</td>\n      <td>0.849179</td>\n      <td>0.009746</td>\n    </tr>\n    <tr>\n      <th>3</th>\n      <td>Christian Yelich</td>\n      <td>11477</td>\n      <td>MIL</td>\n      <td>0.149860</td>\n      <td>0.051534</td>\n      <td>0.144707</td>\n      <td>0.133858</td>\n      <td>0.846531</td>\n      <td>0.027127</td>\n    </tr>\n    <tr>\n      <th>4</th>\n      <td>Bryce Harper</td>\n      <td>11579</td>\n      <td>PHI</td>\n      <td>0.157180</td>\n      <td>0.054264</td>\n      <td>0.159416</td>\n      <td>0.125204</td>\n      <td>0.814496</td>\n      <td>0.020378</td>\n    </tr>\n  </tbody>\n</table>\n</div>"
     },
     "metadata": {},
     "execution_count": 92
    }
   ],
   "source": [
    "merged.head()\n"
   ]
  },
  {
   "cell_type": "code",
   "execution_count": 94,
   "metadata": {},
   "outputs": [
    {
     "output_type": "execute_result",
     "data": {
      "text/plain": [
       "               Name playerid Team         R        HR       RBI         H  \\\n",
       "0        Mike Trout    10155  LAA  0.168681  0.063104  0.167421  0.135713   \n",
       "1         Juan Soto    20123  WSN  0.172518  0.055979  0.177381  0.140262   \n",
       "2   Freddie Freeman     5361  ATL  0.155080  0.045781  0.156940  0.137330   \n",
       "3  Christian Yelich    11477  MIL  0.149860  0.051534  0.144707  0.133858   \n",
       "4      Bryce Harper    11579  PHI  0.157180  0.054264  0.159416  0.125204   \n",
       "\n",
       "         AB        SB     PA  \n",
       "0  0.795689  0.016909  679.0  \n",
       "1  0.819014  0.018970  665.0  \n",
       "2  0.849179  0.009746  679.0  \n",
       "3  0.846531  0.027127  672.0  \n",
       "4  0.814496  0.020378  665.0  "
      ],
      "text/html": "<div>\n<style scoped>\n    .dataframe tbody tr th:only-of-type {\n        vertical-align: middle;\n    }\n\n    .dataframe tbody tr th {\n        vertical-align: top;\n    }\n\n    .dataframe thead th {\n        text-align: right;\n    }\n</style>\n<table border=\"1\" class=\"dataframe\">\n  <thead>\n    <tr style=\"text-align: right;\">\n      <th></th>\n      <th>Name</th>\n      <th>playerid</th>\n      <th>Team</th>\n      <th>R</th>\n      <th>HR</th>\n      <th>RBI</th>\n      <th>H</th>\n      <th>AB</th>\n      <th>SB</th>\n      <th>PA</th>\n    </tr>\n  </thead>\n  <tbody>\n    <tr>\n      <th>0</th>\n      <td>Mike Trout</td>\n      <td>10155</td>\n      <td>LAA</td>\n      <td>0.168681</td>\n      <td>0.063104</td>\n      <td>0.167421</td>\n      <td>0.135713</td>\n      <td>0.795689</td>\n      <td>0.016909</td>\n      <td>679.0</td>\n    </tr>\n    <tr>\n      <th>1</th>\n      <td>Juan Soto</td>\n      <td>20123</td>\n      <td>WSN</td>\n      <td>0.172518</td>\n      <td>0.055979</td>\n      <td>0.177381</td>\n      <td>0.140262</td>\n      <td>0.819014</td>\n      <td>0.018970</td>\n      <td>665.0</td>\n    </tr>\n    <tr>\n      <th>2</th>\n      <td>Freddie Freeman</td>\n      <td>5361</td>\n      <td>ATL</td>\n      <td>0.155080</td>\n      <td>0.045781</td>\n      <td>0.156940</td>\n      <td>0.137330</td>\n      <td>0.849179</td>\n      <td>0.009746</td>\n      <td>679.0</td>\n    </tr>\n    <tr>\n      <th>3</th>\n      <td>Christian Yelich</td>\n      <td>11477</td>\n      <td>MIL</td>\n      <td>0.149860</td>\n      <td>0.051534</td>\n      <td>0.144707</td>\n      <td>0.133858</td>\n      <td>0.846531</td>\n      <td>0.027127</td>\n      <td>672.0</td>\n    </tr>\n    <tr>\n      <th>4</th>\n      <td>Bryce Harper</td>\n      <td>11579</td>\n      <td>PHI</td>\n      <td>0.157180</td>\n      <td>0.054264</td>\n      <td>0.159416</td>\n      <td>0.125204</td>\n      <td>0.814496</td>\n      <td>0.020378</td>\n      <td>665.0</td>\n    </tr>\n  </tbody>\n</table>\n</div>"
     },
     "metadata": {},
     "execution_count": 94
    }
   ],
   "source": [
    "pt = pd.read_csv('../data/projections/2021/fg_depth hitters.csv')\n",
    "merged = pd.merge(merged, pt[['PA','playerid']], how='outer', left_on='playerid', right_on='playerid')\n",
    "merged.head()"
   ]
  },
  {
   "cell_type": "code",
   "execution_count": 128,
   "metadata": {},
   "outputs": [
    {
     "output_type": "execute_result",
     "data": {
      "text/plain": [
       "   mlb_id      mlb_name mlb_pos mlb_team       mlb_team_long bats throws  \\\n",
       "0  592091   A.J. Achter       P      LAA  Los Angeles Angels    R      R   \n",
       "1  595918     A.J. Cole       P      TOR   Toronto Blue Jays    R      R   \n",
       "2  454560    A.J. Ellis       C       SD    San Diego Padres    R      R   \n",
       "3  456167  A.J. Griffin       P      TEX       Texas Rangers    R      R   \n",
       "4  543362  A.J. Jimenez       C      TEX       Texas Rangers    R      R   \n",
       "\n",
       "  birth_date    bp_id    bref_id  ...    retro_name      debut yahoo_id  \\\n",
       "0  8/27/1988  66919.0  achteaj01  ...   A.J. Achter   9/3/2014   9824.0   \n",
       "1   1/5/1992  68086.0   coleaj01  ...     A.J. Cole  4/28/2015   9638.0   \n",
       "2   4/9/1981  47564.0  ellisaj01  ...    A.J. Ellis  9/15/2008   8373.0   \n",
       "3  1/28/1988  65757.0  griffaj01  ...  A.J. Griffin  6/24/2012   9220.0   \n",
       "4   5/1/1990  58320.0  jimenaj01  ...  A.J. Jimenez   9/6/2017      NaN   \n",
       "\n",
       "     yahoo_name ottoneu_id  ottoneu_name ottoneu_pos rotowire_id  \\\n",
       "0   A.J. Achter    18093.0   A.J. Achter          RP         NaN   \n",
       "1     A.J. Cole    14940.0     A.J. Cole          RP     11446.0   \n",
       "2    A.J. Ellis     1543.0    A.J. Ellis        Util      9242.0   \n",
       "3  A.J. Griffin    13764.0  A.J. Griffin          RP     12410.0   \n",
       "4           NaN    17777.0  A.J. Jimenez        Util     12071.0   \n",
       "\n",
       "  rotowire_name rotowire_pos  \n",
       "0           NaN          NaN  \n",
       "1     A.J. Cole            P  \n",
       "2    A.J. Ellis            C  \n",
       "3  A.J. Griffin            P  \n",
       "4  A.J. Jimenez            C  \n",
       "\n",
       "[5 rows x 35 columns]"
      ],
      "text/html": "<div>\n<style scoped>\n    .dataframe tbody tr th:only-of-type {\n        vertical-align: middle;\n    }\n\n    .dataframe tbody tr th {\n        vertical-align: top;\n    }\n\n    .dataframe thead th {\n        text-align: right;\n    }\n</style>\n<table border=\"1\" class=\"dataframe\">\n  <thead>\n    <tr style=\"text-align: right;\">\n      <th></th>\n      <th>mlb_id</th>\n      <th>mlb_name</th>\n      <th>mlb_pos</th>\n      <th>mlb_team</th>\n      <th>mlb_team_long</th>\n      <th>bats</th>\n      <th>throws</th>\n      <th>birth_date</th>\n      <th>bp_id</th>\n      <th>bref_id</th>\n      <th>...</th>\n      <th>retro_name</th>\n      <th>debut</th>\n      <th>yahoo_id</th>\n      <th>yahoo_name</th>\n      <th>ottoneu_id</th>\n      <th>ottoneu_name</th>\n      <th>ottoneu_pos</th>\n      <th>rotowire_id</th>\n      <th>rotowire_name</th>\n      <th>rotowire_pos</th>\n    </tr>\n  </thead>\n  <tbody>\n    <tr>\n      <th>0</th>\n      <td>592091</td>\n      <td>A.J. Achter</td>\n      <td>P</td>\n      <td>LAA</td>\n      <td>Los Angeles Angels</td>\n      <td>R</td>\n      <td>R</td>\n      <td>8/27/1988</td>\n      <td>66919.0</td>\n      <td>achteaj01</td>\n      <td>...</td>\n      <td>A.J. Achter</td>\n      <td>9/3/2014</td>\n      <td>9824.0</td>\n      <td>A.J. Achter</td>\n      <td>18093.0</td>\n      <td>A.J. Achter</td>\n      <td>RP</td>\n      <td>NaN</td>\n      <td>NaN</td>\n      <td>NaN</td>\n    </tr>\n    <tr>\n      <th>1</th>\n      <td>595918</td>\n      <td>A.J. Cole</td>\n      <td>P</td>\n      <td>TOR</td>\n      <td>Toronto Blue Jays</td>\n      <td>R</td>\n      <td>R</td>\n      <td>1/5/1992</td>\n      <td>68086.0</td>\n      <td>coleaj01</td>\n      <td>...</td>\n      <td>A.J. Cole</td>\n      <td>4/28/2015</td>\n      <td>9638.0</td>\n      <td>A.J. Cole</td>\n      <td>14940.0</td>\n      <td>A.J. Cole</td>\n      <td>RP</td>\n      <td>11446.0</td>\n      <td>A.J. Cole</td>\n      <td>P</td>\n    </tr>\n    <tr>\n      <th>2</th>\n      <td>454560</td>\n      <td>A.J. Ellis</td>\n      <td>C</td>\n      <td>SD</td>\n      <td>San Diego Padres</td>\n      <td>R</td>\n      <td>R</td>\n      <td>4/9/1981</td>\n      <td>47564.0</td>\n      <td>ellisaj01</td>\n      <td>...</td>\n      <td>A.J. Ellis</td>\n      <td>9/15/2008</td>\n      <td>8373.0</td>\n      <td>A.J. Ellis</td>\n      <td>1543.0</td>\n      <td>A.J. Ellis</td>\n      <td>Util</td>\n      <td>9242.0</td>\n      <td>A.J. Ellis</td>\n      <td>C</td>\n    </tr>\n    <tr>\n      <th>3</th>\n      <td>456167</td>\n      <td>A.J. Griffin</td>\n      <td>P</td>\n      <td>TEX</td>\n      <td>Texas Rangers</td>\n      <td>R</td>\n      <td>R</td>\n      <td>1/28/1988</td>\n      <td>65757.0</td>\n      <td>griffaj01</td>\n      <td>...</td>\n      <td>A.J. Griffin</td>\n      <td>6/24/2012</td>\n      <td>9220.0</td>\n      <td>A.J. Griffin</td>\n      <td>13764.0</td>\n      <td>A.J. Griffin</td>\n      <td>RP</td>\n      <td>12410.0</td>\n      <td>A.J. Griffin</td>\n      <td>P</td>\n    </tr>\n    <tr>\n      <th>4</th>\n      <td>543362</td>\n      <td>A.J. Jimenez</td>\n      <td>C</td>\n      <td>TEX</td>\n      <td>Texas Rangers</td>\n      <td>R</td>\n      <td>R</td>\n      <td>5/1/1990</td>\n      <td>58320.0</td>\n      <td>jimenaj01</td>\n      <td>...</td>\n      <td>A.J. Jimenez</td>\n      <td>9/6/2017</td>\n      <td>NaN</td>\n      <td>NaN</td>\n      <td>17777.0</td>\n      <td>A.J. Jimenez</td>\n      <td>Util</td>\n      <td>12071.0</td>\n      <td>A.J. Jimenez</td>\n      <td>C</td>\n    </tr>\n  </tbody>\n</table>\n<p>5 rows × 35 columns</p>\n</div>"
     },
     "metadata": {},
     "execution_count": 128
    }
   ],
   "source": [
    "#pd.read_csv('../data/projections/2021/cbs hitters.csv', skiprows=1, skipfooter=1)\n",
    "id_map = pd.read_csv('../data/projections/2021/id_map.txt', engine='python', sep='\\t')\n",
    "#pd.read_csv?\n",
    "#drop = id_map.columns.where(id_map.columns.str.startswith('Unnamed')).dropna()\n",
    "#id_map.drop(drop, inplace=True, axis=1)\n",
    "id_map.head()"
   ]
  },
  {
   "cell_type": "code",
   "execution_count": 118,
   "metadata": {},
   "outputs": [
    {
     "output_type": "execute_result",
     "data": {
      "text/plain": [
       "         cbs_id   cbs_name  cbs_pos  espn_id espn_name espn_pos    fg_id  \\\n",
       "0         66919  achteaj01     A.J.   Achter   2146207     A.J.   Achter   \n",
       "1         68086   coleaj01     A.J.     Cole   1839916     A.J.     Cole   \n",
       "2         47564  ellisaj01     A.J.    Ellis   1104367     A.J.    Ellis   \n",
       "3     griffaj01       A.J.  Griffin  1974327      A.J.  Griffin       SP   \n",
       "4     jimenaj01       A.J.  Jimenez  1798970      A.J.  Jimenez        C   \n",
       "...         ...        ...      ...      ...       ...      ...      ...   \n",
       "3302  wheelza01       Zack  Wheeler  1744777      Zack  Wheeler       SP   \n",
       "3303        NaN        NaN      NaN      NaN       NaN      NaN      NaN   \n",
       "3304      58696  spruize01     Zeke  Spruill   1941064     Zeke  Spruill   \n",
       "3305      56964  wheelze01   Zelous  Wheeler   1601827   Zelous  Wheeler   \n",
       "3306  almonzo01      Zoilo  Almonte  1812890     Zoilo  Almonte       LF   \n",
       "\n",
       "     fg_name fg_pos  \n",
       "0         RP  33637  \n",
       "1         RP  31595  \n",
       "2          C  29258  \n",
       "3      32559   A.J.  \n",
       "4      31050   A.J.  \n",
       "...      ...    ...  \n",
       "3302   31267   Zack  \n",
       "3303     NaN    NaN  \n",
       "3304      SP  31633  \n",
       "3305      3B  30249  \n",
       "3306   31469  Zoilo  \n",
       "\n",
       "[3307 rows x 9 columns]"
      ],
      "text/html": "<div>\n<style scoped>\n    .dataframe tbody tr th:only-of-type {\n        vertical-align: middle;\n    }\n\n    .dataframe tbody tr th {\n        vertical-align: top;\n    }\n\n    .dataframe thead th {\n        text-align: right;\n    }\n</style>\n<table border=\"1\" class=\"dataframe\">\n  <thead>\n    <tr style=\"text-align: right;\">\n      <th></th>\n      <th>cbs_id</th>\n      <th>cbs_name</th>\n      <th>cbs_pos</th>\n      <th>espn_id</th>\n      <th>espn_name</th>\n      <th>espn_pos</th>\n      <th>fg_id</th>\n      <th>fg_name</th>\n      <th>fg_pos</th>\n    </tr>\n  </thead>\n  <tbody>\n    <tr>\n      <th>0</th>\n      <td>66919</td>\n      <td>achteaj01</td>\n      <td>A.J.</td>\n      <td>Achter</td>\n      <td>2146207</td>\n      <td>A.J.</td>\n      <td>Achter</td>\n      <td>RP</td>\n      <td>33637</td>\n    </tr>\n    <tr>\n      <th>1</th>\n      <td>68086</td>\n      <td>coleaj01</td>\n      <td>A.J.</td>\n      <td>Cole</td>\n      <td>1839916</td>\n      <td>A.J.</td>\n      <td>Cole</td>\n      <td>RP</td>\n      <td>31595</td>\n    </tr>\n    <tr>\n      <th>2</th>\n      <td>47564</td>\n      <td>ellisaj01</td>\n      <td>A.J.</td>\n      <td>Ellis</td>\n      <td>1104367</td>\n      <td>A.J.</td>\n      <td>Ellis</td>\n      <td>C</td>\n      <td>29258</td>\n    </tr>\n    <tr>\n      <th>3</th>\n      <td>griffaj01</td>\n      <td>A.J.</td>\n      <td>Griffin</td>\n      <td>1974327</td>\n      <td>A.J.</td>\n      <td>Griffin</td>\n      <td>SP</td>\n      <td>32559</td>\n      <td>A.J.</td>\n    </tr>\n    <tr>\n      <th>4</th>\n      <td>jimenaj01</td>\n      <td>A.J.</td>\n      <td>Jimenez</td>\n      <td>1798970</td>\n      <td>A.J.</td>\n      <td>Jimenez</td>\n      <td>C</td>\n      <td>31050</td>\n      <td>A.J.</td>\n    </tr>\n    <tr>\n      <th>...</th>\n      <td>...</td>\n      <td>...</td>\n      <td>...</td>\n      <td>...</td>\n      <td>...</td>\n      <td>...</td>\n      <td>...</td>\n      <td>...</td>\n      <td>...</td>\n    </tr>\n    <tr>\n      <th>3302</th>\n      <td>wheelza01</td>\n      <td>Zack</td>\n      <td>Wheeler</td>\n      <td>1744777</td>\n      <td>Zack</td>\n      <td>Wheeler</td>\n      <td>SP</td>\n      <td>31267</td>\n      <td>Zack</td>\n    </tr>\n    <tr>\n      <th>3303</th>\n      <td>NaN</td>\n      <td>NaN</td>\n      <td>NaN</td>\n      <td>NaN</td>\n      <td>NaN</td>\n      <td>NaN</td>\n      <td>NaN</td>\n      <td>NaN</td>\n      <td>NaN</td>\n    </tr>\n    <tr>\n      <th>3304</th>\n      <td>58696</td>\n      <td>spruize01</td>\n      <td>Zeke</td>\n      <td>Spruill</td>\n      <td>1941064</td>\n      <td>Zeke</td>\n      <td>Spruill</td>\n      <td>SP</td>\n      <td>31633</td>\n    </tr>\n    <tr>\n      <th>3305</th>\n      <td>56964</td>\n      <td>wheelze01</td>\n      <td>Zelous</td>\n      <td>Wheeler</td>\n      <td>1601827</td>\n      <td>Zelous</td>\n      <td>Wheeler</td>\n      <td>3B</td>\n      <td>30249</td>\n    </tr>\n    <tr>\n      <th>3306</th>\n      <td>almonzo01</td>\n      <td>Zoilo</td>\n      <td>Almonte</td>\n      <td>1812890</td>\n      <td>Zoilo</td>\n      <td>Almonte</td>\n      <td>LF</td>\n      <td>31469</td>\n      <td>Zoilo</td>\n    </tr>\n  </tbody>\n</table>\n<p>3307 rows × 9 columns</p>\n</div>"
     },
     "metadata": {},
     "execution_count": 118
    }
   ],
   "source": [
    "id_map[['cbs_id',\n",
    "       'cbs_name', 'cbs_pos', 'espn_id', 'espn_name', 'espn_pos', 'fg_id',\n",
    "       'fg_name', 'fg_pos']]"
   ]
  },
  {
   "cell_type": "code",
   "execution_count": null,
   "metadata": {},
   "outputs": [],
   "source": [
    "class FantasyValuator:\n",
    "    '''A class for providing Standings Points Gained based valuations of hitters.\n",
    "\n",
    "    Attributes\n",
    "    ----------\n",
    "    spg: Pandas Series\n",
    "        A Pandas series of SPG values.\n",
    "\n",
    "    league_BA: float\n",
    "        The expected batting average the fantasy league in which the player's value will be evaluated.         Used for caluculating xH.\n",
    "\n",
    "    league_AB: numeric\n",
    "        The number of at bats of the fantasy team the player will play for.\n",
    "\n",
    "    league_ERA: float\n",
    "        The expected ERA of the fantasy league in which the player's value will be evaluated\n",
    "\n",
    "    ###Docs a work in progress.\n",
    "    '''\n",
    "    def __init__():\n",
    "        self.spg = pd.Series()\n",
    "        self.spg['xH'] = 8.475##used 8.47, nearly matched the real value of 8.486 in 2019.\n",
    "        self.spg['HR'] = 5.286##real value was 4.782\n",
    "        self.spg['R'] = 11.671###used 10.81,real value was 12.532\n",
    "        self.spg['RBI'] = 13.38##used 12.20,was 14.564\n",
    "        self.spg['SB'] = 3.46##used 4.27,was 2.657\n",
    "\n",
    "        self.spg['xER'] = 8.47# was in 2018, 7.85\n",
    "        self.spg['SO'] = 17.47\n",
    "        self.spg['W'] = 1.73\n",
    "        self.spg['SV'] = 4.55\n",
    "        self.spgx['WHIP'] = 12.420\n",
    "        ###was 10.60 in 2018\n",
    "        ##Shit, used 10.848 in 2019; actual value in 2019 was 13.992!\n",
    "        \n",
    "        \n",
    "        self.league_BA = .265\n",
    "        self.league_ERA = 3.79\n",
    "        self.league_WHIP = 1.23\n",
    "        self.hitter_replacement_level = 16.72\n",
    "        self.pitcher_replacement_level = 11.44\n",
    "        self.catcher_replacement_level = 9##This is an approximation.\n",
    "\n",
    "        self.hitter_categories = ['HR','xH','RBI','R','SB']\n",
    "        self.pitcher_categories = ['W','SV','SO','xWHIP','xER']\n",
    "\n",
    "    def evaluate_hitters(self, hitters, use_replacement_level=True):\n",
    "        '''\n",
    "        Return hitter SPG based fantasy value from fantasy stats. \n",
    "        \n",
    "        Paramters\n",
    "        ---------\n",
    "        hitters: dict-like or dataframe\n",
    "            A dataframe or dictionary with columns or indices corresponding to the hitter stats to be\n",
    "            evaluated in the fantasy wins-above-replacement calculation.\n",
    "\n",
    "        Returns\n",
    "        -------\n",
    "            A pd.Series indexed to hitters (for DataFrame of hitters) or a float (for a dict-like of               hitters)\n",
    "        '''\n",
    "        eval_data = hitters[self.hitter_categories]\n",
    "        fWAR = (eval_data/spg[self.hitter_categories]).sum()\n",
    "        if use_replacement_level:\n",
    "            fWAR = fWAR.mask('C' in hitters['elig'], other = fWAR - self.catcher_replacement_level)\n",
    "            fWAR = fWAR.where('C' in hitters['elig'], other = fWAR - self.hitter_replacement_level)\n",
    "        return fWAR\n",
    "\n",
    "    def ERA_to_xER(self,pitchers):\n",
    "        '''Gets a pitchers xER.'''\n",
    "        return (pitchers['ERA']-self.league_ERA)*pitchers['IP']\n",
    "\n",
    "    def BA_to_xH(self, hitters):\n",
    "        '''Get hitters xH'''\n",
    "        return (hitters['BA']-self.league_BA)*hitters['AB']\n",
    "\n",
    "    def WHIP_to_xWHIP(self, pitchers):\n",
    "        return (pitchers['WHIP']-self.league_WHIP)*pitchers['IP']\n",
    "\n",
    "    def _calculate_fWAR(self, hitter_series):\n",
    "\n",
    "        \n",
    "        \n",
    "        "
   ]
  },
  {
   "cell_type": "code",
   "execution_count": 5,
   "metadata": {},
   "outputs": [],
   "source": [
    "import os\n",
    "#os.listdir('../data')\n",
    "test = pd.read_csv('../data/TestFiles/hittersProj.csv')\n"
   ]
  },
  {
   "cell_type": "code",
   "execution_count": 6,
   "metadata": {},
   "outputs": [
    {
     "output_type": "execute_result",
     "data": {
      "text/plain": [
       "                Name     Team    G   PA   AB    H  2B  3B  HR    R  ...  CS  \\\n",
       "0         Mike Trout   Angels  157  658  516  155  29   4  39  119  ...   7   \n",
       "1      J.D. Martinez  Red Sox  155  651  574  170  35   2  39  101  ...   2   \n",
       "2       Bryce Harper      NaN  150  630  510  136  28   1  34   95  ...   5   \n",
       "3       Mookie Betts  Red Sox  162  679  588  178  42   3  29  116  ...   8   \n",
       "4  Giancarlo Stanton  Yankees  145  609  530  142  25   1  45   95  ...   1   \n",
       "\n",
       "     AVG    OBP    SLG    OPS   wOBA   Fld  BsR  WAR  playerid  \n",
       "0  0.300  0.441  0.600  1.041  0.431  -0.6  3.4  9.3     10155  \n",
       "1  0.297  0.372  0.569  0.940  0.393  -0.2 -2.5  4.1      6184  \n",
       "2  0.267  0.399  0.528  0.927  0.390  -2.6  0.7  4.9     11579  \n",
       "3  0.303  0.385  0.537  0.922  0.390  14.6  5.6  7.4     13611  \n",
       "4  0.267  0.354  0.570  0.923  0.386   0.8 -0.4  4.3      4949  \n",
       "\n",
       "[5 rows x 25 columns]"
      ],
      "text/html": "<div>\n<style scoped>\n    .dataframe tbody tr th:only-of-type {\n        vertical-align: middle;\n    }\n\n    .dataframe tbody tr th {\n        vertical-align: top;\n    }\n\n    .dataframe thead th {\n        text-align: right;\n    }\n</style>\n<table border=\"1\" class=\"dataframe\">\n  <thead>\n    <tr style=\"text-align: right;\">\n      <th></th>\n      <th>Name</th>\n      <th>Team</th>\n      <th>G</th>\n      <th>PA</th>\n      <th>AB</th>\n      <th>H</th>\n      <th>2B</th>\n      <th>3B</th>\n      <th>HR</th>\n      <th>R</th>\n      <th>...</th>\n      <th>CS</th>\n      <th>AVG</th>\n      <th>OBP</th>\n      <th>SLG</th>\n      <th>OPS</th>\n      <th>wOBA</th>\n      <th>Fld</th>\n      <th>BsR</th>\n      <th>WAR</th>\n      <th>playerid</th>\n    </tr>\n  </thead>\n  <tbody>\n    <tr>\n      <th>0</th>\n      <td>Mike Trout</td>\n      <td>Angels</td>\n      <td>157</td>\n      <td>658</td>\n      <td>516</td>\n      <td>155</td>\n      <td>29</td>\n      <td>4</td>\n      <td>39</td>\n      <td>119</td>\n      <td>...</td>\n      <td>7</td>\n      <td>0.300</td>\n      <td>0.441</td>\n      <td>0.600</td>\n      <td>1.041</td>\n      <td>0.431</td>\n      <td>-0.6</td>\n      <td>3.4</td>\n      <td>9.3</td>\n      <td>10155</td>\n    </tr>\n    <tr>\n      <th>1</th>\n      <td>J.D. Martinez</td>\n      <td>Red Sox</td>\n      <td>155</td>\n      <td>651</td>\n      <td>574</td>\n      <td>170</td>\n      <td>35</td>\n      <td>2</td>\n      <td>39</td>\n      <td>101</td>\n      <td>...</td>\n      <td>2</td>\n      <td>0.297</td>\n      <td>0.372</td>\n      <td>0.569</td>\n      <td>0.940</td>\n      <td>0.393</td>\n      <td>-0.2</td>\n      <td>-2.5</td>\n      <td>4.1</td>\n      <td>6184</td>\n    </tr>\n    <tr>\n      <th>2</th>\n      <td>Bryce Harper</td>\n      <td>NaN</td>\n      <td>150</td>\n      <td>630</td>\n      <td>510</td>\n      <td>136</td>\n      <td>28</td>\n      <td>1</td>\n      <td>34</td>\n      <td>95</td>\n      <td>...</td>\n      <td>5</td>\n      <td>0.267</td>\n      <td>0.399</td>\n      <td>0.528</td>\n      <td>0.927</td>\n      <td>0.390</td>\n      <td>-2.6</td>\n      <td>0.7</td>\n      <td>4.9</td>\n      <td>11579</td>\n    </tr>\n    <tr>\n      <th>3</th>\n      <td>Mookie Betts</td>\n      <td>Red Sox</td>\n      <td>162</td>\n      <td>679</td>\n      <td>588</td>\n      <td>178</td>\n      <td>42</td>\n      <td>3</td>\n      <td>29</td>\n      <td>116</td>\n      <td>...</td>\n      <td>8</td>\n      <td>0.303</td>\n      <td>0.385</td>\n      <td>0.537</td>\n      <td>0.922</td>\n      <td>0.390</td>\n      <td>14.6</td>\n      <td>5.6</td>\n      <td>7.4</td>\n      <td>13611</td>\n    </tr>\n    <tr>\n      <th>4</th>\n      <td>Giancarlo Stanton</td>\n      <td>Yankees</td>\n      <td>145</td>\n      <td>609</td>\n      <td>530</td>\n      <td>142</td>\n      <td>25</td>\n      <td>1</td>\n      <td>45</td>\n      <td>95</td>\n      <td>...</td>\n      <td>1</td>\n      <td>0.267</td>\n      <td>0.354</td>\n      <td>0.570</td>\n      <td>0.923</td>\n      <td>0.386</td>\n      <td>0.8</td>\n      <td>-0.4</td>\n      <td>4.3</td>\n      <td>4949</td>\n    </tr>\n  </tbody>\n</table>\n<p>5 rows × 25 columns</p>\n</div>"
     },
     "metadata": {},
     "execution_count": 6
    }
   ],
   "source": [
    "test.head()"
   ]
  },
  {
   "cell_type": "code",
   "execution_count": 20,
   "metadata": {},
   "outputs": [
    {
     "output_type": "execute_result",
     "data": {
      "text/plain": [
       "     elig\n",
       "0  [C, U]\n",
       "1     [U]"
      ],
      "text/html": "<div>\n<style scoped>\n    .dataframe tbody tr th:only-of-type {\n        vertical-align: middle;\n    }\n\n    .dataframe tbody tr th {\n        vertical-align: top;\n    }\n\n    .dataframe thead th {\n        text-align: right;\n    }\n</style>\n<table border=\"1\" class=\"dataframe\">\n  <thead>\n    <tr style=\"text-align: right;\">\n      <th></th>\n      <th>elig</th>\n    </tr>\n  </thead>\n  <tbody>\n    <tr>\n      <th>0</th>\n      <td>[C, U]</td>\n    </tr>\n    <tr>\n      <th>1</th>\n      <td>[U]</td>\n    </tr>\n  </tbody>\n</table>\n</div>"
     },
     "metadata": {},
     "execution_count": 20
    }
   ],
   "source": [
    "x = pd.DataFrame({'elig':[['C','U'],['U']]})\n",
    "x"
   ]
  },
  {
   "cell_type": "code",
   "execution_count": 21,
   "metadata": {},
   "outputs": [
    {
     "output_type": "error",
     "ename": "ValueError",
     "evalue": "Array conditional must be same shape as self",
     "traceback": [
      "\u001b[1;31m---------------------------------------------------------------------------\u001b[0m",
      "\u001b[1;31mValueError\u001b[0m                                Traceback (most recent call last)",
      "\u001b[1;32m<ipython-input-21-6cfcdacbf868>\u001b[0m in \u001b[0;36m<module>\u001b[1;34m\u001b[0m\n\u001b[0;32m      1\u001b[0m \u001b[0mx\u001b[0m\u001b[1;33m[\u001b[0m\u001b[1;34m'catcher'\u001b[0m\u001b[1;33m]\u001b[0m \u001b[1;33m=\u001b[0m \u001b[1;32mFalse\u001b[0m\u001b[1;33m\u001b[0m\u001b[1;33m\u001b[0m\u001b[0m\n\u001b[1;32m----> 2\u001b[1;33m \u001b[0mx\u001b[0m\u001b[1;33m[\u001b[0m\u001b[1;34m'catcher'\u001b[0m\u001b[1;33m]\u001b[0m \u001b[1;33m=\u001b[0m \u001b[0mx\u001b[0m\u001b[1;33m.\u001b[0m\u001b[0mmask\u001b[0m\u001b[1;33m(\u001b[0m\u001b[1;34m'C'\u001b[0m \u001b[1;32min\u001b[0m \u001b[0mx\u001b[0m\u001b[1;33m[\u001b[0m\u001b[1;34m'elig'\u001b[0m\u001b[1;33m]\u001b[0m\u001b[1;33m,\u001b[0m \u001b[1;32mTrue\u001b[0m\u001b[1;33m)\u001b[0m\u001b[1;33m\u001b[0m\u001b[1;33m\u001b[0m\u001b[0m\n\u001b[0m\u001b[0;32m      3\u001b[0m \u001b[1;34m'C'\u001b[0m \u001b[1;32min\u001b[0m \u001b[0mx\u001b[0m\u001b[1;33m[\u001b[0m\u001b[1;34m'elig'\u001b[0m\u001b[1;33m]\u001b[0m\u001b[1;33m\u001b[0m\u001b[1;33m\u001b[0m\u001b[0m\n",
      "\u001b[1;32m~\\Anaconda3\\lib\\site-packages\\pandas\\core\\generic.py\u001b[0m in \u001b[0;36mmask\u001b[1;34m(self, cond, other, inplace, axis, level, errors, try_cast)\u001b[0m\n\u001b[0;32m   9032\u001b[0m             \u001b[0mcond\u001b[0m \u001b[1;33m=\u001b[0m \u001b[0mnp\u001b[0m\u001b[1;33m.\u001b[0m\u001b[0marray\u001b[0m\u001b[1;33m(\u001b[0m\u001b[0mcond\u001b[0m\u001b[1;33m)\u001b[0m\u001b[1;33m\u001b[0m\u001b[1;33m\u001b[0m\u001b[0m\n\u001b[0;32m   9033\u001b[0m \u001b[1;33m\u001b[0m\u001b[0m\n\u001b[1;32m-> 9034\u001b[1;33m         return self.where(\n\u001b[0m\u001b[0;32m   9035\u001b[0m             \u001b[1;33m~\u001b[0m\u001b[0mcond\u001b[0m\u001b[1;33m,\u001b[0m\u001b[1;33m\u001b[0m\u001b[1;33m\u001b[0m\u001b[0m\n\u001b[0;32m   9036\u001b[0m             \u001b[0mother\u001b[0m\u001b[1;33m=\u001b[0m\u001b[0mother\u001b[0m\u001b[1;33m,\u001b[0m\u001b[1;33m\u001b[0m\u001b[1;33m\u001b[0m\u001b[0m\n",
      "\u001b[1;32m~\\Anaconda3\\lib\\site-packages\\pandas\\core\\generic.py\u001b[0m in \u001b[0;36mwhere\u001b[1;34m(self, cond, other, inplace, axis, level, errors, try_cast)\u001b[0m\n\u001b[0;32m   9002\u001b[0m         \"\"\"\n\u001b[0;32m   9003\u001b[0m         \u001b[0mother\u001b[0m \u001b[1;33m=\u001b[0m \u001b[0mcom\u001b[0m\u001b[1;33m.\u001b[0m\u001b[0mapply_if_callable\u001b[0m\u001b[1;33m(\u001b[0m\u001b[0mother\u001b[0m\u001b[1;33m,\u001b[0m \u001b[0mself\u001b[0m\u001b[1;33m)\u001b[0m\u001b[1;33m\u001b[0m\u001b[1;33m\u001b[0m\u001b[0m\n\u001b[1;32m-> 9004\u001b[1;33m         return self._where(\n\u001b[0m\u001b[0;32m   9005\u001b[0m             \u001b[0mcond\u001b[0m\u001b[1;33m,\u001b[0m \u001b[0mother\u001b[0m\u001b[1;33m,\u001b[0m \u001b[0minplace\u001b[0m\u001b[1;33m,\u001b[0m \u001b[0maxis\u001b[0m\u001b[1;33m,\u001b[0m \u001b[0mlevel\u001b[0m\u001b[1;33m,\u001b[0m \u001b[0merrors\u001b[0m\u001b[1;33m=\u001b[0m\u001b[0merrors\u001b[0m\u001b[1;33m,\u001b[0m \u001b[0mtry_cast\u001b[0m\u001b[1;33m=\u001b[0m\u001b[0mtry_cast\u001b[0m\u001b[1;33m\u001b[0m\u001b[1;33m\u001b[0m\u001b[0m\n\u001b[0;32m   9006\u001b[0m         )\n",
      "\u001b[1;32m~\\Anaconda3\\lib\\site-packages\\pandas\\core\\generic.py\u001b[0m in \u001b[0;36m_where\u001b[1;34m(self, cond, other, inplace, axis, level, errors, try_cast)\u001b[0m\n\u001b[0;32m   8747\u001b[0m                 \u001b[0mcond\u001b[0m \u001b[1;33m=\u001b[0m \u001b[0mnp\u001b[0m\u001b[1;33m.\u001b[0m\u001b[0masanyarray\u001b[0m\u001b[1;33m(\u001b[0m\u001b[0mcond\u001b[0m\u001b[1;33m)\u001b[0m\u001b[1;33m\u001b[0m\u001b[1;33m\u001b[0m\u001b[0m\n\u001b[0;32m   8748\u001b[0m             \u001b[1;32mif\u001b[0m \u001b[0mcond\u001b[0m\u001b[1;33m.\u001b[0m\u001b[0mshape\u001b[0m \u001b[1;33m!=\u001b[0m \u001b[0mself\u001b[0m\u001b[1;33m.\u001b[0m\u001b[0mshape\u001b[0m\u001b[1;33m:\u001b[0m\u001b[1;33m\u001b[0m\u001b[1;33m\u001b[0m\u001b[0m\n\u001b[1;32m-> 8749\u001b[1;33m                 \u001b[1;32mraise\u001b[0m \u001b[0mValueError\u001b[0m\u001b[1;33m(\u001b[0m\u001b[1;34m\"Array conditional must be same shape as self\"\u001b[0m\u001b[1;33m)\u001b[0m\u001b[1;33m\u001b[0m\u001b[1;33m\u001b[0m\u001b[0m\n\u001b[0m\u001b[0;32m   8750\u001b[0m             \u001b[0mcond\u001b[0m \u001b[1;33m=\u001b[0m \u001b[0mself\u001b[0m\u001b[1;33m.\u001b[0m\u001b[0m_constructor\u001b[0m\u001b[1;33m(\u001b[0m\u001b[0mcond\u001b[0m\u001b[1;33m,\u001b[0m \u001b[1;33m**\u001b[0m\u001b[0mself\u001b[0m\u001b[1;33m.\u001b[0m\u001b[0m_construct_axes_dict\u001b[0m\u001b[1;33m(\u001b[0m\u001b[1;33m)\u001b[0m\u001b[1;33m)\u001b[0m\u001b[1;33m\u001b[0m\u001b[1;33m\u001b[0m\u001b[0m\n\u001b[0;32m   8751\u001b[0m \u001b[1;33m\u001b[0m\u001b[0m\n",
      "\u001b[1;31mValueError\u001b[0m: Array conditional must be same shape as self"
     ]
    }
   ],
   "source": [
    "x['catcher'] = False\n",
    "x['catcher'] = x.mask('C' in x['elig'], True)\n",
    "'C' in x['elig']"
   ]
  },
  {
   "cell_type": "code",
   "execution_count": null,
   "metadata": {},
   "outputs": [],
   "source": []
  }
 ]
}