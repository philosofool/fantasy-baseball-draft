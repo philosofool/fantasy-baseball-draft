{
 "cells": [
  {
   "cell_type": "code",
   "execution_count": null,
   "metadata": {},
   "outputs": [],
   "source": [
    "from collections.abc import Callable\n",
    "import os\n",
    "import pandas as pd\n",
    "from statcast import FetchStatcast"
   ]
  },
  {
   "cell_type": "code",
   "execution_count": null,
   "metadata": {},
   "outputs": [],
   "source": [
    "fetch_statcast = FetchStatcast('statcast_data')"
   ]
  },
  {
   "cell_type": "code",
   "execution_count": null,
   "metadata": {},
   "outputs": [],
   "source": [
    "# fetch all data from 2024 regular season. The early \"Seoul Series\" is omitted.\n",
    "df = fetch_statcast.statcast(\"2024-03-28\", \"2024-09-29\", preprocess=lambda x: x).drop_duplicates()"
   ]
  },
  {
   "cell_type": "code",
   "execution_count": 11,
   "metadata": {},
   "outputs": [
    {
     "name": "stdout",
     "output_type": "stream",
     "text": [
      "<class 'pandas.core.frame.DataFrame'>\n",
      "Index: 708248 entries, 1728 to 4035\n",
      "Columns: 113 entries, pitch_type to arm_angle\n",
      "dtypes: Float64(37), Int64(51), datetime64[ns](1), object(24)\n",
      "memory usage: 675.4+ MB\n"
     ]
    }
   ],
   "source": [
    "df.info()"
   ]
  },
  {
   "cell_type": "code",
   "execution_count": null,
   "metadata": {},
   "outputs": [],
   "source": [
    "def add_at_bat_id(df):\n",
    "    \"\"\"Encode at bat as 10 bit shift of game id plus at-bat number.\"\"\"\n",
    "    return (df.game_pk.to_numpy() << 10) + df.at_bat_number\n",
    "at_bat = add_at_bat_id(df)\n"
   ]
  },
  {
   "cell_type": "code",
   "execution_count": null,
   "metadata": {},
   "outputs": [],
   "source": [
    "\n",
    "def merge_to_1_1_and_following(df: pd.DataFrame) -> pd.DataFrame:\n",
    "    df = df[['game_date', 'game_pk', 'batter', 'pitcher', 'at_bat_number', 'pitch_number', 'pitch_type', 'balls', 'strikes']].copy()\n",
    "    df['at_bat_id'] = add_at_bat_id(df)\n",
    "    has_1_strike = df.strikes == 1\n",
    "    has_2_strike = df.strikes == 2\n",
    "    has_1_ball = df.balls == 1\n",
    "    has_2_ball = df.balls == 2\n",
    "    is_1_1_count = has_1_strike & has_1_ball\n",
    "    can_follow_1_1 = (has_1_strike & has_2_ball) | (has_2_strike & has_1_ball)\n",
    "    lhs = df.loc[is_1_1_count, :]\n",
    "    rhs = df.loc[can_follow_1_1, ['pitch_type', 'at_bat_id', 'pitch_number']]\n",
    "    df = lhs.merge(rhs, on='at_bat_id', how='left', suffixes=('', '_following'))\n",
    "    return df.query('pitch_number == pitch_number_following - 1')\n",
    "\n",
    "results = merge_to_1_1_and_following(df)#.duplicated()\n"
   ]
  },
  {
   "cell_type": "code",
   "execution_count": null,
   "metadata": {},
   "outputs": [],
   "source": [
    "pitch_type_map = {\n",
    "    'CH': 'Changeup',\n",
    "    'CU': 'Curveball',\n",
    "    'EP': \"Eephus\",\n",
    "    'FA': 'Fastball',\n",
    "    'FC': 'Cutter',\n",
    "    'FF': \"Four-seam Fastball\",\n",
    "    'FO': \"Forkball\",\n",
    "    'FS': \"Splitter\",\n",
    "    'KC': \"Knuckle-curve\",\n",
    "    'KN': \"Knuckle-ball\",\n",
    "    'PO': \"Pickoff\",\n",
    "    'SC': \"Screwball\",\n",
    "    'SI': \"Sinker\",\n",
    "    'SL': \"Slider\",\n",
    "    'ST': \"Sweeper\",\n",
    "    'SV': \"Slurve\"\n",
    "}"
   ]
  },
  {
   "cell_type": "code",
   "execution_count": null,
   "metadata": {},
   "outputs": [],
   "source": [
    "results_clean = (\n",
    "    results[['game_pk', 'batter', 'pitcher', 'at_bat_number', 'pitch_type', 'pitch_type_following']]\n",
    "    .assign(\n",
    "        pitch_type=lambda df: df.pitch_type.map(pitch_type_map),\n",
    "        pitch_type_following=lambda df: df.pitch_type_following.map(pitch_type_map))\n",
    ")\n",
    "results_clean.groupby('pitch_type').describe()"
   ]
  },
  {
   "cell_type": "code",
   "execution_count": null,
   "metadata": {},
   "outputs": [],
   "source": [
    "file_name = \"pitch_selection_in_one_one_counts.csv\"\n",
    "results_clean.to_csv(file_name)"
   ]
  },
  {
   "cell_type": "code",
   "execution_count": null,
   "metadata": {},
   "outputs": [],
   "source": [
    "directory = os.path.normpath(\"C:/Users/lenha/Repos/ua_ms_ds/phi_msds/info_526/assignments/data\")\n",
    "path = os.path.join(directory, file_name)\n",
    "results_clean.to_csv(path)"
   ]
  },
  {
   "cell_type": "code",
   "execution_count": null,
   "metadata": {},
   "outputs": [],
   "source": []
  }
 ],
 "metadata": {
  "kernelspec": {
   "display_name": ".venv",
   "language": "python",
   "name": "python3"
  },
  "language_info": {
   "codemirror_mode": {
    "name": "ipython",
    "version": 3
   },
   "file_extension": ".py",
   "mimetype": "text/x-python",
   "name": "python",
   "nbconvert_exporter": "python",
   "pygments_lexer": "ipython3",
   "version": "3.11.9"
  }
 },
 "nbformat": 4,
 "nbformat_minor": 2
}
