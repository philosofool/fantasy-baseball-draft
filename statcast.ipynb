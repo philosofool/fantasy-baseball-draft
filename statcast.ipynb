{
 "cells": [
  {
   "cell_type": "code",
   "execution_count": 1,
   "metadata": {},
   "outputs": [],
   "source": [
    "from collections.abc import Callable\n",
    "import os\n",
    "from pybaseball import statcast, playerid_lookup, playerid_reverse_lookup\n",
    "import pandas as pd"
   ]
  },
  {
   "cell_type": "code",
   "execution_count": 2,
   "metadata": {},
   "outputs": [
    {
     "data": {
      "text/plain": [
       "'2025-02-17'"
      ]
     },
     "execution_count": 2,
     "metadata": {},
     "output_type": "execute_result"
    }
   ],
   "source": [
    "pd.Timestamp('2025-02-17', tz='America/New_York').strftime(\"%Y-%m-%d\")"
   ]
  },
  {
   "cell_type": "code",
   "execution_count": 3,
   "metadata": {},
   "outputs": [],
   "source": [
    "class FetchStatcast:\n",
    "    \"\"\"Fetch Statcast data.\n",
    "\n",
    "    Reads from and writes to caches during fetches by default, preventing needless\n",
    "    API calls and speeding up transactions.\n",
    "    \"\"\"\n",
    "    def __init__(self, local_file_cache: str):\n",
    "        self.local_file_cache = local_file_cache\n",
    "\n",
    "    def statcast(\n",
    "            self,\n",
    "            start: str,\n",
    "            end: str,\n",
    "            preprocess: Callable[[pd.DataFrame], pd.DataFrame],\n",
    "            read_from_cache=True,\n",
    "            write_to_cache=True\n",
    "        ) -> pd.DataFrame:\n",
    "        \"\"\"Fetch pitch level data from statcast.\n",
    "\n",
    "        Data is read from local_file_cache.\n",
    "\n",
    "        Parameters\n",
    "        ----------\n",
    "        start:\n",
    "            YYYY-MM-DD formatted time string.\n",
    "        end:\n",
    "            YYYY-MM-DD formatted time string.\n",
    "        preprocess:\n",
    "            A callable for transforming slices of statcast data.\n",
    "\n",
    "            The fetch process works on one-day chunks of statcast data. This function is called on each\n",
    "            chunk before aggragating all the data.\n",
    "        read_from_cache:\n",
    "            Whether to read from local_file_cache if available.\n",
    "        write_to_cache:\n",
    "            Whether to write fetched data to cache.\n",
    "        \"\"\"\n",
    "        dates = pd.date_range(start, end)\n",
    "        data = []\n",
    "        for _start, _end in zip(dates, dates[1:]):\n",
    "            df = self._fetch_data(_start, _end, read_from_cache, write_to_cache)\n",
    "            data.append(preprocess(df))\n",
    "        return pd.concat(data)\n",
    "\n",
    "    def _fetch_data(self, start: pd.Timestamp, end: pd.Timestamp, use_cache: bool, write_to_cache: bool):\n",
    "        \"\"\"Fetch a single slice of data through a cache file.\"\"\"\n",
    "        filename = self._file_name(start, end)\n",
    "        if os.path.exists(filename) and use_cache:\n",
    "            df = pd.read_parquet(filename)\n",
    "        else:\n",
    "            start_str = start.strftime(\"%Y-%m-%d\")\n",
    "            end_str = end.strftime(\"%Y-%m-%d\")\n",
    "            df = statcast(start_str, end_str)\n",
    "            if write_to_cache:\n",
    "                df.to_parquet(filename)\n",
    "        return df\n",
    "\n",
    "    def _file_name(self, start: pd.Timestamp, end: pd.Timestamp):\n",
    "        start_str = start.strftime(\"%Y-%m-%d\")\n",
    "        end_str = end.strftime(\"%Y-%m-%d\")\n",
    "        name = f\"statcast_{start_str}_{end_str}\"\n",
    "        return os.path.join(self.local_file_cache, name)\n"
   ]
  },
  {
   "cell_type": "code",
   "execution_count": 4,
   "metadata": {},
   "outputs": [],
   "source": [
    "fetch_statcast = FetchStatcast('statcast_data')"
   ]
  },
  {
   "cell_type": "code",
   "execution_count": null,
   "metadata": {},
   "outputs": [],
   "source": [
    "# fetch all data from 2024 regular season. The early \"Seoul Series\" is omitted.\n",
    "df = fetch_statcast.statcast(\"2024-03-28\", \"2024-09-29\", preprocess=lambda x: x).drop_duplicates()"
   ]
  },
  {
   "cell_type": "code",
   "execution_count": 97,
   "metadata": {},
   "outputs": [
    {
     "name": "stdout",
     "output_type": "stream",
     "text": [
      "<class 'pandas.core.frame.DataFrame'>\n",
      "Index: 708248 entries, 1728 to 4035\n",
      "Columns: 113 entries, pitch_type to arm_angle\n",
      "dtypes: Float64(37), Int64(51), datetime64[ns](1), object(24)\n",
      "memory usage: 675.4+ MB\n"
     ]
    }
   ],
   "source": [
    "df.info()"
   ]
  },
  {
   "cell_type": "code",
   "execution_count": 79,
   "metadata": {},
   "outputs": [],
   "source": [
    "def add_at_bat_id(df):\n",
    "    \"\"\"Encode at bat as 10 bit shift of game id plus at-bat number.\"\"\"\n",
    "    return (df.game_pk.to_numpy() << 10) + df.at_bat_number\n",
    "at_bat = add_at_bat_id(df)\n"
   ]
  },
  {
   "cell_type": "code",
   "execution_count": 98,
   "metadata": {},
   "outputs": [],
   "source": [
    "\n",
    "def filter_to_(df: pd.DataFrame) -> pd.DataFrame:\n",
    "    df = df[['game_date', 'game_pk', 'batter', 'pitcher', 'at_bat_number', 'pitch_number', 'pitch_type', 'balls', 'strikes']].copy()\n",
    "    df['at_bat_id'] = add_at_bat_id(df)\n",
    "    has_1_strike = df.strikes == 1\n",
    "    has_2_strike = df.strikes == 2\n",
    "    has_1_ball = df.balls == 1\n",
    "    has_2_ball = df.balls == 2\n",
    "    is_1_1_count = has_1_strike & has_1_ball\n",
    "    can_follow_1_1 = (has_1_strike & has_2_ball) | (has_2_strike & has_1_ball)\n",
    "    lhs = df.loc[is_1_1_count, :]\n",
    "    rhs = df.loc[can_follow_1_1, ['pitch_type', 'at_bat_id', 'pitch_number']]\n",
    "    df = lhs.merge(rhs, on='at_bat_id', how='left', suffixes=('', '_following'))\n",
    "    return df.query('pitch_number == pitch_number_following - 1')\n",
    "\n",
    "results = filter_to_(df)#.duplicated()\n"
   ]
  },
  {
   "cell_type": "code",
   "execution_count": 99,
   "metadata": {},
   "outputs": [
    {
     "data": {
      "text/html": [
       "<div>\n",
       "<style scoped>\n",
       "    .dataframe tbody tr th:only-of-type {\n",
       "        vertical-align: middle;\n",
       "    }\n",
       "\n",
       "    .dataframe tbody tr th {\n",
       "        vertical-align: top;\n",
       "    }\n",
       "\n",
       "    .dataframe thead th {\n",
       "        text-align: right;\n",
       "    }\n",
       "</style>\n",
       "<table border=\"1\" class=\"dataframe\">\n",
       "  <thead>\n",
       "    <tr style=\"text-align: right;\">\n",
       "      <th></th>\n",
       "      <th>game_pk</th>\n",
       "      <th>batter</th>\n",
       "      <th>pitcher</th>\n",
       "      <th>at_bat_number</th>\n",
       "      <th>pitch_type</th>\n",
       "      <th>pitch_type_following</th>\n",
       "    </tr>\n",
       "  </thead>\n",
       "  <tbody>\n",
       "    <tr>\n",
       "      <th>1</th>\n",
       "      <td>747223</td>\n",
       "      <td>666134</td>\n",
       "      <td>656464</td>\n",
       "      <td>70</td>\n",
       "      <td>SL</td>\n",
       "      <td>SL</td>\n",
       "    </tr>\n",
       "    <tr>\n",
       "      <th>2</th>\n",
       "      <td>747223</td>\n",
       "      <td>572233</td>\n",
       "      <td>641755</td>\n",
       "      <td>69</td>\n",
       "      <td>SL</td>\n",
       "      <td>SL</td>\n",
       "    </tr>\n",
       "    <tr>\n",
       "      <th>3</th>\n",
       "      <td>747223</td>\n",
       "      <td>606466</td>\n",
       "      <td>641755</td>\n",
       "      <td>67</td>\n",
       "      <td>SL</td>\n",
       "      <td>SL</td>\n",
       "    </tr>\n",
       "    <tr>\n",
       "      <th>4</th>\n",
       "      <td>747223</td>\n",
       "      <td>682998</td>\n",
       "      <td>641755</td>\n",
       "      <td>66</td>\n",
       "      <td>SL</td>\n",
       "      <td>FF</td>\n",
       "    </tr>\n",
       "    <tr>\n",
       "      <th>9</th>\n",
       "      <td>747223</td>\n",
       "      <td>660707</td>\n",
       "      <td>573009</td>\n",
       "      <td>61</td>\n",
       "      <td>CH</td>\n",
       "      <td>CH</td>\n",
       "    </tr>\n",
       "    <tr>\n",
       "      <th>...</th>\n",
       "      <td>...</td>\n",
       "      <td>...</td>\n",
       "      <td>...</td>\n",
       "      <td>...</td>\n",
       "      <td>...</td>\n",
       "      <td>...</td>\n",
       "    </tr>\n",
       "    <tr>\n",
       "      <th>80164</th>\n",
       "      <td>744798</td>\n",
       "      <td>608336</td>\n",
       "      <td>605400</td>\n",
       "      <td>15</td>\n",
       "      <td>KC</td>\n",
       "      <td>FF</td>\n",
       "    </tr>\n",
       "    <tr>\n",
       "      <th>80165</th>\n",
       "      <td>744798</td>\n",
       "      <td>686611</td>\n",
       "      <td>605400</td>\n",
       "      <td>14</td>\n",
       "      <td>KC</td>\n",
       "      <td>SI</td>\n",
       "    </tr>\n",
       "    <tr>\n",
       "      <th>80166</th>\n",
       "      <td>744798</td>\n",
       "      <td>624641</td>\n",
       "      <td>663623</td>\n",
       "      <td>12</td>\n",
       "      <td>FF</td>\n",
       "      <td>FF</td>\n",
       "    </tr>\n",
       "    <tr>\n",
       "      <th>80167</th>\n",
       "      <td>744798</td>\n",
       "      <td>695578</td>\n",
       "      <td>605400</td>\n",
       "      <td>8</td>\n",
       "      <td>CH</td>\n",
       "      <td>SI</td>\n",
       "    </tr>\n",
       "    <tr>\n",
       "      <th>80168</th>\n",
       "      <td>744798</td>\n",
       "      <td>592206</td>\n",
       "      <td>663623</td>\n",
       "      <td>3</td>\n",
       "      <td>SI</td>\n",
       "      <td>CU</td>\n",
       "    </tr>\n",
       "  </tbody>\n",
       "</table>\n",
       "<p>57018 rows × 6 columns</p>\n",
       "</div>"
      ],
      "text/plain": [
       "       game_pk  batter  pitcher  at_bat_number pitch_type pitch_type_following\n",
       "1       747223  666134   656464             70         SL                   SL\n",
       "2       747223  572233   641755             69         SL                   SL\n",
       "3       747223  606466   641755             67         SL                   SL\n",
       "4       747223  682998   641755             66         SL                   FF\n",
       "9       747223  660707   573009             61         CH                   CH\n",
       "...        ...     ...      ...            ...        ...                  ...\n",
       "80164   744798  608336   605400             15         KC                   FF\n",
       "80165   744798  686611   605400             14         KC                   SI\n",
       "80166   744798  624641   663623             12         FF                   FF\n",
       "80167   744798  695578   605400              8         CH                   SI\n",
       "80168   744798  592206   663623              3         SI                   CU\n",
       "\n",
       "[57018 rows x 6 columns]"
      ]
     },
     "execution_count": 99,
     "metadata": {},
     "output_type": "execute_result"
    }
   ],
   "source": [
    "results[['game_pk', 'batter', 'pitcher', 'at_bat_number', 'pitch_type', 'pitch_type_following']]"
   ]
  }
 ],
 "metadata": {
  "kernelspec": {
   "display_name": ".venv",
   "language": "python",
   "name": "python3"
  },
  "language_info": {
   "codemirror_mode": {
    "name": "ipython",
    "version": 3
   },
   "file_extension": ".py",
   "mimetype": "text/x-python",
   "name": "python",
   "nbconvert_exporter": "python",
   "pygments_lexer": "ipython3",
   "version": "3.11.9"
  }
 },
 "nbformat": 4,
 "nbformat_minor": 2
}
